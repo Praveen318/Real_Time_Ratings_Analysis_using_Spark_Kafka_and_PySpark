{
 "cells": [
  {
   "cell_type": "markdown",
   "metadata": {
    "application/vnd.databricks.v1+cell": {
     "cellMetadata": {},
     "inputWidgets": {},
     "nuid": "937d05f5-442e-4a87-97aa-0854fc193376",
     "showTitle": false,
     "title": ""
    }
   },
   "source": [
    "## **Big Data Engineering Group Assignment** \n",
    "### **Salmoli Chandra 24PGAI0057**\n",
    "### **Meera Karamta 24PGAI0003**\n",
    "### **Kishnu Srivastava 24PGAI0042**\n",
    "### **Praveen Kumar Singh 24PGAI0068**"
   ]
  },
  {
   "cell_type": "markdown",
   "metadata": {
    "application/vnd.databricks.v1+cell": {
     "cellMetadata": {},
     "inputWidgets": {},
     "nuid": "fdc5d6ac-f84d-43cd-bc2c-b77672830534",
     "showTitle": false,
     "title": ""
    }
   },
   "source": [
    "# Stream Processing"
   ]
  },
  {
   "cell_type": "code",
   "execution_count": 0,
   "metadata": {
    "application/vnd.databricks.v1+cell": {
     "cellMetadata": {
      "byteLimit": 2048000,
      "rowLimit": 10000
     },
     "inputWidgets": {},
     "nuid": "f79ab842-6a0b-4fe1-95ca-52359a4bf2d4",
     "showTitle": false,
     "title": ""
    }
   },
   "outputs": [],
   "source": [
    "from pyspark.sql.functions import *"
   ]
  },
  {
   "cell_type": "code",
   "execution_count": 0,
   "metadata": {
    "application/vnd.databricks.v1+cell": {
     "cellMetadata": {
      "byteLimit": 2048000,
      "rowLimit": 10000
     },
     "inputWidgets": {},
     "nuid": "58db74b5-5ed4-435d-a057-627c41d737e0",
     "showTitle": false,
     "title": ""
    }
   },
   "outputs": [],
   "source": [
    "delta_ratings_df = spark.readStream.format(\"delta\")\\\n",
    "                    .option(\"maxFilesPerTrigger\",10)\\\n",
    "                    .option(\"ignoreChanges\",\"true\")\\\n",
    "                    .load(\"/delta/ratings\")"
   ]
  },
  {
   "cell_type": "code",
   "execution_count": 0,
   "metadata": {
    "application/vnd.databricks.v1+cell": {
     "cellMetadata": {
      "byteLimit": 2048000,
      "rowLimit": 10000
     },
     "inputWidgets": {},
     "nuid": "289a887e-8ebb-4c11-8b9a-a4ce167f73be",
     "showTitle": false,
     "title": ""
    }
   },
   "outputs": [],
   "source": [
    "delta_ratings_df.createOrReplaceTempView(\"ratings\")"
   ]
  },
  {
   "cell_type": "code",
   "execution_count": 0,
   "metadata": {
    "application/vnd.databricks.v1+cell": {
     "cellMetadata": {
      "byteLimit": 2048000,
      "implicitDf": true,
      "rowLimit": 10000
     },
     "inputWidgets": {},
     "nuid": "720a2237-0c1b-4dec-b41b-ed745f237344",
     "showTitle": false,
     "title": ""
    }
   },
   "outputs": [
    {
     "output_type": "display_data",
     "data": {
      "text/html": [
       "<style scoped>\n",
       "  .table-result-container {\n",
       "    max-height: 300px;\n",
       "    overflow: auto;\n",
       "  }\n",
       "  table, th, td {\n",
       "    border: 1px solid black;\n",
       "    border-collapse: collapse;\n",
       "  }\n",
       "  th, td {\n",
       "    padding: 5px;\n",
       "  }\n",
       "  th {\n",
       "    text-align: left;\n",
       "  }\n",
       "</style><div class='table-result-container'><table class='table-result'><thead style='background-color: white'><tr><th>rating_id</th><th>user_id</th><th>stars</th><th>route_id</th><th>rating_time</th><th>channel</th><th>message</th></tr></thead><tbody><tr><td>1417</td><td>12</td><td>2</td><td>5518</td><td>2001-12-09 01:00:00</td><td>iOS-test</td><td>thank you for the most friendly, helpful experience today at your new lounge</td></tr><tr><td>1561</td><td>16</td><td>3</td><td>6553</td><td>2002-02-19 01:00:00</td><td>iOS-test</td><td>why is it so difficult to keep the bathrooms clean ?</td></tr><tr><td>1489</td><td>11</td><td>3</td><td>4649</td><td>2002-01-14 01:00:00</td><td>ios</td><td>airport refurb looks great, will fly outta here more!</td></tr><tr><td>1371</td><td>19</td><td>2</td><td>4919</td><td>2001-11-16 01:00:00</td><td>web</td><td>why is it so difficult to keep the bathrooms clean ?</td></tr><tr><td>1531</td><td>6</td><td>4</td><td>3007</td><td>2002-02-04 01:00:00</td><td>iOS-test</td><td>Exceeded all my expectations. Thank you !</td></tr><tr><td>1524</td><td>11</td><td>3</td><td>6701</td><td>2002-01-31 13:00:00</td><td>web</td><td>is this as good as it gets? really ?</td></tr><tr><td>1359</td><td>17</td><td>4</td><td>933</td><td>2001-11-10 01:00:00</td><td>ios</td><td>is this as good as it gets? really ?</td></tr><tr><td>1377</td><td>11</td><td>2</td><td>6781</td><td>2001-11-19 01:00:00</td><td>web</td><td>is this as good as it gets? really ?</td></tr><tr><td>1491</td><td>6</td><td>1</td><td>7239</td><td>2002-01-15 01:00:00</td><td>ios</td><td>worst. flight. ever. #neveragain</td></tr><tr><td>1423</td><td>5</td><td>2</td><td>6763</td><td>2001-12-12 01:00:00</td><td>iOS</td><td>more peanuts please</td></tr><tr><td>1500</td><td>5</td><td>1</td><td>4722</td><td>2002-01-19 13:00:00</td><td>ios</td><td>thank you for the most friendly, helpful experience today at your new lounge</td></tr><tr><td>1567</td><td>1</td><td>2</td><td>9354</td><td>2002-02-22 01:00:00</td><td>android</td><td>Exceeded all my expectations. Thank you !</td></tr><tr><td>1363</td><td>-1</td><td>1</td><td>5410</td><td>2001-11-12 01:00:00</td><td>iOS-test</td><td>worst. flight. ever. #neveragain</td></tr><tr><td>1573</td><td>5</td><td>4</td><td>5419</td><td>2002-02-25 01:00:00</td><td>iOS-test</td><td>worst. flight. ever. #neveragain</td></tr><tr><td>1535</td><td>15</td><td>2</td><td>6417</td><td>2002-02-06 01:00:00</td><td>android</td><td>worst. flight. ever. #neveragain</td></tr><tr><td>1429</td><td>15</td><td>1</td><td>7802</td><td>2001-12-15 01:00:00</td><td>ios</td><td>is this as good as it gets? really ?</td></tr><tr><td>1381</td><td>11</td><td>1</td><td>5612</td><td>2001-11-21 01:00:00</td><td>ios</td><td>worst. flight. ever. #neveragain</td></tr><tr><td>1382</td><td>1</td><td>1</td><td>4499</td><td>2001-11-21 13:00:00</td><td>iOS</td><td>(expletive deleted)</td></tr><tr><td>1499</td><td>16</td><td>1</td><td>3468</td><td>2002-01-19 01:00:00</td><td>ios</td><td>meh</td></tr><tr><td>1434</td><td>-1</td><td>4</td><td>1215</td><td>2001-12-17 13:00:00</td><td>iOS</td><td>meh</td></tr><tr><td>1438</td><td>1</td><td>4</td><td>8461</td><td>2001-12-19 13:00:00</td><td>ios</td><td>thank you for the most friendly, helpful experience today at your new lounge</td></tr><tr><td>1564</td><td>7</td><td>1</td><td>5725</td><td>2002-02-20 13:00:00</td><td>web</td><td>Surprisingly good, maybe you are getting your mojo back at long last!</td></tr><tr><td>1510</td><td>4</td><td>2</td><td>9682</td><td>2002-01-24 13:00:00</td><td>android</td><td>airport refurb looks great, will fly outta here more!</td></tr><tr><td>1543</td><td>4</td><td>1</td><td>8803</td><td>2002-02-10 01:00:00</td><td>iOS</td><td>why is it so difficult to keep the bathrooms clean ?</td></tr><tr><td>1394</td><td>7</td><td>1</td><td>3274</td><td>2001-11-27 13:00:00</td><td>ios</td><td>why is it so difficult to keep the bathrooms clean ?</td></tr><tr><td>1396</td><td>2</td><td>3</td><td>4103</td><td>2001-11-28 13:00:00</td><td>web</td><td>Exceeded all my expectations. Thank you !</td></tr><tr><td>1390</td><td>4</td><td>4</td><td>2902</td><td>2001-11-25 13:00:00</td><td>web</td><td>is this as good as it gets? really ?</td></tr><tr><td>1583</td><td>-1</td><td>3</td><td>9330</td><td>2002-03-02 01:00:00</td><td>iOS-test</td><td>more peanuts please</td></tr><tr><td>1575</td><td>12</td><td>1</td><td>8412</td><td>2002-02-26 01:00:00</td><td>ios</td><td>your team here rocks!</td></tr><tr><td>1385</td><td>6</td><td>4</td><td>737</td><td>2001-11-23 01:00:00</td><td>web</td><td>more peanuts please</td></tr><tr><td>1513</td><td>4</td><td>3</td><td>5478</td><td>2002-01-26 01:00:00</td><td>ios</td><td>thank you for the most friendly, helpful experience today at your new lounge</td></tr><tr><td>1397</td><td>5</td><td>2</td><td>7239</td><td>2001-11-29 01:00:00</td><td>iOS</td><td>Surprisingly good, maybe you are getting your mojo back at long last!</td></tr><tr><td>1578</td><td>12</td><td>4</td><td>7213</td><td>2002-02-27 13:00:00</td><td>android</td><td>airport refurb looks great, will fly outta here more!</td></tr><tr><td>1443</td><td>0</td><td>3</td><td>4461</td><td>2001-12-22 01:00:00</td><td>iOS</td><td>why is it so difficult to keep the bathrooms clean ?</td></tr><tr><td>1568</td><td>13</td><td>3</td><td>8660</td><td>2002-02-22 13:00:00</td><td>web</td><td>Exceeded all my expectations. Thank you !</td></tr><tr><td>1517</td><td>10</td><td>4</td><td>1661</td><td>2002-01-28 01:00:00</td><td>ios</td><td>Exceeded all my expectations. Thank you !</td></tr><tr><td>1448</td><td>19</td><td>1</td><td>9520</td><td>2001-12-24 13:00:00</td><td>iOS-test</td><td>is this as good as it gets? really ?</td></tr><tr><td>1589</td><td>17</td><td>1</td><td>3668</td><td>2002-03-05 01:00:00</td><td>android</td><td>(expletive deleted)</td></tr><tr><td>1399</td><td>5</td><td>3</td><td>1847</td><td>2001-11-30 01:00:00</td><td>iOS</td><td>more peanuts please</td></tr><tr><td>1400</td><td>19</td><td>1</td><td>4237</td><td>2001-11-30 13:00:00</td><td>iOS</td><td>more peanuts please</td></tr><tr><td>1582</td><td>19</td><td>4</td><td>7890</td><td>2002-03-01 13:00:00</td><td>iOS-test</td><td>Surprisingly good, maybe you are getting your mojo back at long last!</td></tr><tr><td>1403</td><td>5</td><td>4</td><td>6423</td><td>2001-12-02 01:00:00</td><td>iOS</td><td>Surprisingly good, maybe you are getting your mojo back at long last!</td></tr><tr><td>1404</td><td>7</td><td>3</td><td>7758</td><td>2001-12-02 13:00:00</td><td>iOS-test</td><td>why is it so difficult to keep the bathrooms clean ?</td></tr><tr><td>1596</td><td>9</td><td>2</td><td>3272</td><td>2002-03-08 13:00:00</td><td>ios</td><td>airport refurb looks great, will fly outta here more!</td></tr><tr><td>1398</td><td>13</td><td>2</td><td>9075</td><td>2001-11-29 13:00:00</td><td>web</td><td>airport refurb looks great, will fly outta here more!</td></tr><tr><td>1532</td><td>3</td><td>2</td><td>6522</td><td>2002-02-04 13:00:00</td><td>iOS-test</td><td>Exceeded all my expectations. Thank you !</td></tr><tr><td>1597</td><td>17</td><td>3</td><td>5972</td><td>2002-03-09 01:00:00</td><td>iOS-test</td><td>is this as good as it gets? really ?</td></tr><tr><td>1453</td><td>-1</td><td>2</td><td>4507</td><td>2001-12-27 01:00:00</td><td>android</td><td>(expletive deleted)</td></tr><tr><td>1405</td><td>4</td><td>2</td><td>9088</td><td>2001-12-03 01:00:00</td><td>android</td><td>more peanuts please</td></tr><tr><td>1526</td><td>14</td><td>4</td><td>8623</td><td>2002-02-01 13:00:00</td><td>web</td><td>your team here rocks!</td></tr><tr><td>1420</td><td>19</td><td>2</td><td>6724</td><td>2001-12-10 13:00:00</td><td>iOS-test</td><td>Surprisingly good, maybe you are getting your mojo back at long last!</td></tr><tr><td>1595</td><td>0</td><td>3</td><td>5821</td><td>2002-03-08 01:00:00</td><td>iOS</td><td>Surprisingly good, maybe you are getting your mojo back at long last!</td></tr><tr><td>1599</td><td>17</td><td>4</td><td>7297</td><td>2002-03-10 01:00:00</td><td>android</td><td>airport refurb looks great, will fly outta here more!</td></tr><tr><td>1409</td><td>14</td><td>4</td><td>9013</td><td>2001-12-05 01:00:00</td><td>android</td><td>airport refurb looks great, will fly outta here more!</td></tr><tr><td>1414</td><td>7</td><td>1</td><td>3277</td><td>2001-12-07 13:00:00</td><td>iOS</td><td>is this as good as it gets? really ?</td></tr><tr><td>1602</td><td>0</td><td>1</td><td>8856</td><td>2002-03-11 13:00:00</td><td>web</td><td>is this as good as it gets? really ?</td></tr><tr><td>1461</td><td>8</td><td>1</td><td>5958</td><td>2001-12-31 01:00:00</td><td>web</td><td>worst. flight. ever. #neveragain</td></tr><tr><td>1601</td><td>11</td><td>2</td><td>6907</td><td>2002-03-11 01:00:00</td><td>android</td><td>your team here rocks!</td></tr><tr><td>1455</td><td>15</td><td>1</td><td>6858</td><td>2001-12-28 01:00:00</td><td>android</td><td>more peanuts please</td></tr><tr><td>1539</td><td>12</td><td>1</td><td>889</td><td>2002-02-08 01:00:00</td><td>ios</td><td>meh</td></tr><tr><td>1422</td><td>5</td><td>4</td><td>1014</td><td>2001-12-11 13:00:00</td><td>ios</td><td>thank you for the most friendly, helpful experience today at your new lounge</td></tr><tr><td>1541</td><td>1</td><td>4</td><td>32</td><td>2002-02-09 01:00:00</td><td>iOS-test</td><td>airport refurb looks great, will fly outta here more!</td></tr><tr><td>1419</td><td>4</td><td>2</td><td>6433</td><td>2001-12-10 01:00:00</td><td>iOS-test</td><td>why is it so difficult to keep the bathrooms clean ?</td></tr><tr><td>1464</td><td>9</td><td>2</td><td>9305</td><td>2002-01-01 13:00:00</td><td>ios</td><td>airport refurb looks great, will fly outta here more!</td></tr><tr><td>1474</td><td>19</td><td>1</td><td>4047</td><td>2002-01-06 13:00:00</td><td>iOS</td><td>why is it so difficult to keep the bathrooms clean ?</td></tr><tr><td>1607</td><td>17</td><td>4</td><td>3175</td><td>2002-03-14 01:00:00</td><td>android</td><td>is this as good as it gets? really ?</td></tr><tr><td>1603</td><td>5</td><td>4</td><td>1653</td><td>2002-03-12 01:00:00</td><td>web</td><td>(expletive deleted)</td></tr><tr><td>1424</td><td>4</td><td>2</td><td>8435</td><td>2001-12-12 13:00:00</td><td>iOS</td><td>(expletive deleted)</td></tr><tr><td>1608</td><td>19</td><td>1</td><td>8634</td><td>2002-03-14 13:00:00</td><td>android</td><td>meh</td></tr><tr><td>1540</td><td>9</td><td>1</td><td>8434</td><td>2002-02-08 13:00:00</td><td>web</td><td>meh</td></tr><tr><td>1478</td><td>-1</td><td>1</td><td>6872</td><td>2002-01-08 13:00:00</td><td>web</td><td>Surprisingly good, maybe you are getting your mojo back at long last!</td></tr><tr><td>1436</td><td>10</td><td>4</td><td>7428</td><td>2001-12-18 13:00:00</td><td>iOS-test</td><td>Exceeded all my expectations. Thank you !</td></tr><tr><td>1610</td><td>1</td><td>2</td><td>4429</td><td>2002-03-15 13:00:00</td><td>iOS-test</td><td>more peanuts please</td></tr><tr><td>1430</td><td>19</td><td>1</td><td>8385</td><td>2001-12-15 13:00:00</td><td>ios</td><td>your team here rocks!</td></tr><tr><td>1475</td><td>17</td><td>4</td><td>946</td><td>2002-01-07 01:00:00</td><td>iOS</td><td>your team here rocks!</td></tr><tr><td>1616</td><td>8</td><td>2</td><td>5753</td><td>2002-03-18 13:00:00</td><td>web</td><td>your team here rocks!</td></tr><tr><td>1614</td><td>4</td><td>1</td><td>7510</td><td>2002-03-17 13:00:00</td><td>web</td><td>(expletive deleted)</td></tr><tr><td>1445</td><td>14</td><td>3</td><td>4848</td><td>2001-12-23 01:00:00</td><td>web</td><td>more peanuts please</td></tr><tr><td>1446</td><td>12</td><td>3</td><td>7142</td><td>2001-12-23 13:00:00</td><td>ios</td><td>more peanuts please</td></tr><tr><td>1544</td><td>10</td><td>2</td><td>1330</td><td>2002-02-10 13:00:00</td><td>iOS-test</td><td>meh</td></tr><tr><td>1454</td><td>6</td><td>3</td><td>8711</td><td>2001-12-27 13:00:00</td><td>ios</td><td>thank you for the most friendly, helpful experience today at your new lounge</td></tr><tr><td>1549</td><td>15</td><td>2</td><td>3088</td><td>2002-02-13 01:00:00</td><td>android</td><td>why is it so difficult to keep the bathrooms clean ?</td></tr><tr><td>1613</td><td>12</td><td>2</td><td>5494</td><td>2002-03-17 01:00:00</td><td>web</td><td>airport refurb looks great, will fly outta here more!</td></tr><tr><td>1449</td><td>17</td><td>3</td><td>3385</td><td>2001-12-25 01:00:00</td><td>android</td><td>Exceeded all my expectations. Thank you !</td></tr><tr><td>1638</td><td>17</td><td>3</td><td>9304</td><td>2002-03-29 13:00:00</td><td>ios</td><td>Exceeded all my expectations. Thank you !</td></tr><tr><td>1553</td><td>16</td><td>4</td><td>7861</td><td>2002-02-15 01:00:00</td><td>iOS-test</td><td>worst. flight. ever. #neveragain</td></tr><tr><td>1617</td><td>5</td><td>2</td><td>3825</td><td>2002-03-19 01:00:00</td><td>iOS</td><td>your team here rocks!</td></tr><tr><td>1482</td><td>2</td><td>3</td><td>9168</td><td>2002-01-10 13:00:00</td><td>web</td><td>your team here rocks!</td></tr><tr><td>1431</td><td>2</td><td>4</td><td>9674</td><td>2001-12-16 01:00:00</td><td>ios</td><td>more peanuts please</td></tr><tr><td>1639</td><td>14</td><td>2</td><td>2340</td><td>2002-03-30 01:00:00</td><td>android</td><td>meh</td></tr><tr><td>1559</td><td>13</td><td>3</td><td>5134</td><td>2002-02-18 01:00:00</td><td>ios</td><td>thank you for the most friendly, helpful experience today at your new lounge</td></tr><tr><td>1469</td><td>2</td><td>4</td><td>735</td><td>2002-01-04 01:00:00</td><td>iOS</td><td>thank you for the most friendly, helpful experience today at your new lounge</td></tr><tr><td>1520</td><td>8</td><td>2</td><td>9346</td><td>2002-01-29 13:00:00</td><td>web</td><td>thank you for the most friendly, helpful experience today at your new lounge</td></tr><tr><td>1560</td><td>17</td><td>2</td><td>4735</td><td>2002-02-18 13:00:00</td><td>iOS</td><td>Surprisingly good, maybe you are getting your mojo back at long last!</td></tr><tr><td>1642</td><td>4</td><td>1</td><td>4103</td><td>2002-03-31 13:00:00</td><td>android</td><td>is this as good as it gets? really ?</td></tr><tr><td>1501</td><td>4</td><td>1</td><td>4598</td><td>2002-01-20 01:00:00</td><td>web</td><td>is this as good as it gets? really ?</td></tr><tr><td>1631</td><td>0</td><td>1</td><td>9805</td><td>2002-03-26 01:00:00</td><td>web</td><td>is this as good as it gets? really ?</td></tr><tr><td>1456</td><td>15</td><td>2</td><td>3729</td><td>2001-12-28 13:00:00</td><td>web</td><td>is this as good as it gets? really ?</td></tr><tr><td>1625</td><td>8</td><td>4</td><td>2271</td><td>2002-03-23 01:00:00</td><td>iOS</td><td>(expletive deleted)</td></tr><tr><td>1473</td><td>14</td><td>1</td><td>7197</td><td>2002-01-06 01:00:00</td><td>iOS</td><td>(expletive deleted)</td></tr><tr><td>1523</td><td>4</td><td>3</td><td>7183</td><td>2002-01-31 01:00:00</td><td>iOS</td><td>thank you for the most friendly, helpful experience today at your new lounge</td></tr><tr><td>1649</td><td>7</td><td>1</td><td>7820</td><td>2002-04-04 01:00:00</td><td>web</td><td>thank you for the most friendly, helpful experience today at your new lounge</td></tr><tr><td>1479</td><td>16</td><td>2</td><td>2834</td><td>2002-01-09 01:00:00</td><td>android</td><td>airport refurb looks great, will fly outta here more!</td></tr><tr><td>1470</td><td>8</td><td>4</td><td>648</td><td>2002-01-04 13:00:00</td><td>ios</td><td>airport refurb looks great, will fly outta here more!</td></tr><tr><td>1634</td><td>3</td><td>2</td><td>7820</td><td>2002-03-27 13:00:00</td><td>web</td><td>airport refurb looks great, will fly outta here more!</td></tr><tr><td>1476</td><td>9</td><td>4</td><td>4795</td><td>2002-01-07 13:00:00</td><td>iOS-test</td><td>worst. flight. ever. #neveragain</td></tr><tr><td>1571</td><td>3</td><td>4</td><td>7681</td><td>2002-02-24 01:00:00</td><td>android</td><td>(expletive deleted)</td></tr><tr><td>1563</td><td>7</td><td>3</td><td>998</td><td>2002-02-20 01:00:00</td><td>iOS</td><td>more peanuts please</td></tr><tr><td>1481</td><td>5</td><td>4</td><td>5583</td><td>2002-01-10 01:00:00</td><td>iOS-test</td><td>meh</td></tr><tr><td>1644</td><td>15</td><td>2</td><td>2529</td><td>2002-04-01 13:00:00</td><td>android</td><td>meh</td></tr><tr><td>1572</td><td>19</td><td>1</td><td>9536</td><td>2002-02-24 13:00:00</td><td>android</td><td>thank you for the most friendly, helpful experience today at your new lounge</td></tr><tr><td>1653</td><td>5</td><td>2</td><td>2293</td><td>2002-04-06 01:00:00</td><td>iOS-test</td><td>Surprisingly good, maybe you are getting your mojo back at long last!</td></tr><tr><td>1635</td><td>13</td><td>3</td><td>4869</td><td>2002-03-28 01:00:00</td><td>web</td><td>Surprisingly good, maybe you are getting your mojo back at long last!</td></tr><tr><td>1637</td><td>8</td><td>3</td><td>3329</td><td>2002-03-29 01:00:00</td><td>android</td><td>airport refurb looks great, will fly outta here more!</td></tr><tr><td>1484</td><td>9</td><td>2</td><td>5942</td><td>2002-01-11 13:00:00</td><td>iOS-test</td><td>Exceeded all my expectations. Thank you !</td></tr><tr><td>1488</td><td>5</td><td>4</td><td>4823</td><td>2002-01-13 13:00:00</td><td>android</td><td>Exceeded all my expectations. Thank you !</td></tr><tr><td>1529</td><td>6</td><td>1</td><td>9972</td><td>2002-02-03 01:00:00</td><td>android</td><td>is this as good as it gets? really ?</td></tr><tr><td>1494</td><td>2</td><td>1</td><td>5237</td><td>2002-01-16 13:00:00</td><td>ios</td><td>worst. flight. ever. #neveragain</td></tr><tr><td>1530</td><td>3</td><td>1</td><td>6989</td><td>2002-02-03 13:00:00</td><td>android</td><td>meh</td></tr><tr><td>1656</td><td>6</td><td>2</td><td>2041</td><td>2002-04-07 13:00:00</td><td>android</td><td>meh</td></tr><tr><td>1650</td><td>5</td><td>4</td><td>7474</td><td>2002-04-04 13:00:00</td><td>ios</td><td>thank you for the most friendly, helpful experience today at your new lounge</td></tr><tr><td>1497</td><td>8</td><td>1</td><td>6026</td><td>2002-01-18 01:00:00</td><td>web</td><td>Surprisingly good, maybe you are getting your mojo back at long last!</td></tr><tr><td>1658</td><td>18</td><td>4</td><td>4548</td><td>2002-04-08 13:00:00</td><td>android</td><td>why is it so difficult to keep the bathrooms clean ?</td></tr><tr><td>1550</td><td>13</td><td>4</td><td>4778</td><td>2002-02-13 13:00:00</td><td>iOS-test</td><td>worst. flight. ever. #neveragain</td></tr><tr><td>1490</td><td>16</td><td>4</td><td>3114</td><td>2002-01-14 13:00:00</td><td>ios</td><td>worst. flight. ever. #neveragain</td></tr><tr><td>1584</td><td>6</td><td>3</td><td>6236</td><td>2002-03-02 13:00:00</td><td>iOS-test</td><td>(expletive deleted)</td></tr></tbody></table></div>"
      ]
     },
     "metadata": {
      "application/vnd.databricks.v1+output": {
       "addedWidgets": {},
       "aggData": [],
       "aggError": "",
       "aggOverflow": false,
       "aggSchema": [],
       "aggSeriesLimitReached": false,
       "aggType": "",
       "arguments": {},
       "columnCustomDisplayInfos": {},
       "data": [
        [
         1417,
         12,
         2,
         5518,
         "2001-12-09 01:00:00",
         "iOS-test",
         "thank you for the most friendly, helpful experience today at your new lounge"
        ],
        [
         1561,
         16,
         3,
         6553,
         "2002-02-19 01:00:00",
         "iOS-test",
         "why is it so difficult to keep the bathrooms clean ?"
        ],
        [
         1489,
         11,
         3,
         4649,
         "2002-01-14 01:00:00",
         "ios",
         "airport refurb looks great, will fly outta here more!"
        ],
        [
         1371,
         19,
         2,
         4919,
         "2001-11-16 01:00:00",
         "web",
         "why is it so difficult to keep the bathrooms clean ?"
        ],
        [
         1531,
         6,
         4,
         3007,
         "2002-02-04 01:00:00",
         "iOS-test",
         "Exceeded all my expectations. Thank you !"
        ],
        [
         1524,
         11,
         3,
         6701,
         "2002-01-31 13:00:00",
         "web",
         "is this as good as it gets? really ?"
        ],
        [
         1359,
         17,
         4,
         933,
         "2001-11-10 01:00:00",
         "ios",
         "is this as good as it gets? really ?"
        ],
        [
         1377,
         11,
         2,
         6781,
         "2001-11-19 01:00:00",
         "web",
         "is this as good as it gets? really ?"
        ],
        [
         1491,
         6,
         1,
         7239,
         "2002-01-15 01:00:00",
         "ios",
         "worst. flight. ever. #neveragain"
        ],
        [
         1423,
         5,
         2,
         6763,
         "2001-12-12 01:00:00",
         "iOS",
         "more peanuts please"
        ],
        [
         1500,
         5,
         1,
         4722,
         "2002-01-19 13:00:00",
         "ios",
         "thank you for the most friendly, helpful experience today at your new lounge"
        ],
        [
         1567,
         1,
         2,
         9354,
         "2002-02-22 01:00:00",
         "android",
         "Exceeded all my expectations. Thank you !"
        ],
        [
         1363,
         -1,
         1,
         5410,
         "2001-11-12 01:00:00",
         "iOS-test",
         "worst. flight. ever. #neveragain"
        ],
        [
         1573,
         5,
         4,
         5419,
         "2002-02-25 01:00:00",
         "iOS-test",
         "worst. flight. ever. #neveragain"
        ],
        [
         1535,
         15,
         2,
         6417,
         "2002-02-06 01:00:00",
         "android",
         "worst. flight. ever. #neveragain"
        ],
        [
         1429,
         15,
         1,
         7802,
         "2001-12-15 01:00:00",
         "ios",
         "is this as good as it gets? really ?"
        ],
        [
         1381,
         11,
         1,
         5612,
         "2001-11-21 01:00:00",
         "ios",
         "worst. flight. ever. #neveragain"
        ],
        [
         1382,
         1,
         1,
         4499,
         "2001-11-21 13:00:00",
         "iOS",
         "(expletive deleted)"
        ],
        [
         1499,
         16,
         1,
         3468,
         "2002-01-19 01:00:00",
         "ios",
         "meh"
        ],
        [
         1434,
         -1,
         4,
         1215,
         "2001-12-17 13:00:00",
         "iOS",
         "meh"
        ],
        [
         1438,
         1,
         4,
         8461,
         "2001-12-19 13:00:00",
         "ios",
         "thank you for the most friendly, helpful experience today at your new lounge"
        ],
        [
         1564,
         7,
         1,
         5725,
         "2002-02-20 13:00:00",
         "web",
         "Surprisingly good, maybe you are getting your mojo back at long last!"
        ],
        [
         1510,
         4,
         2,
         9682,
         "2002-01-24 13:00:00",
         "android",
         "airport refurb looks great, will fly outta here more!"
        ],
        [
         1543,
         4,
         1,
         8803,
         "2002-02-10 01:00:00",
         "iOS",
         "why is it so difficult to keep the bathrooms clean ?"
        ],
        [
         1394,
         7,
         1,
         3274,
         "2001-11-27 13:00:00",
         "ios",
         "why is it so difficult to keep the bathrooms clean ?"
        ],
        [
         1396,
         2,
         3,
         4103,
         "2001-11-28 13:00:00",
         "web",
         "Exceeded all my expectations. Thank you !"
        ],
        [
         1390,
         4,
         4,
         2902,
         "2001-11-25 13:00:00",
         "web",
         "is this as good as it gets? really ?"
        ],
        [
         1583,
         -1,
         3,
         9330,
         "2002-03-02 01:00:00",
         "iOS-test",
         "more peanuts please"
        ],
        [
         1575,
         12,
         1,
         8412,
         "2002-02-26 01:00:00",
         "ios",
         "your team here rocks!"
        ],
        [
         1385,
         6,
         4,
         737,
         "2001-11-23 01:00:00",
         "web",
         "more peanuts please"
        ],
        [
         1513,
         4,
         3,
         5478,
         "2002-01-26 01:00:00",
         "ios",
         "thank you for the most friendly, helpful experience today at your new lounge"
        ],
        [
         1397,
         5,
         2,
         7239,
         "2001-11-29 01:00:00",
         "iOS",
         "Surprisingly good, maybe you are getting your mojo back at long last!"
        ],
        [
         1578,
         12,
         4,
         7213,
         "2002-02-27 13:00:00",
         "android",
         "airport refurb looks great, will fly outta here more!"
        ],
        [
         1443,
         0,
         3,
         4461,
         "2001-12-22 01:00:00",
         "iOS",
         "why is it so difficult to keep the bathrooms clean ?"
        ],
        [
         1568,
         13,
         3,
         8660,
         "2002-02-22 13:00:00",
         "web",
         "Exceeded all my expectations. Thank you !"
        ],
        [
         1517,
         10,
         4,
         1661,
         "2002-01-28 01:00:00",
         "ios",
         "Exceeded all my expectations. Thank you !"
        ],
        [
         1448,
         19,
         1,
         9520,
         "2001-12-24 13:00:00",
         "iOS-test",
         "is this as good as it gets? really ?"
        ],
        [
         1589,
         17,
         1,
         3668,
         "2002-03-05 01:00:00",
         "android",
         "(expletive deleted)"
        ],
        [
         1399,
         5,
         3,
         1847,
         "2001-11-30 01:00:00",
         "iOS",
         "more peanuts please"
        ],
        [
         1400,
         19,
         1,
         4237,
         "2001-11-30 13:00:00",
         "iOS",
         "more peanuts please"
        ],
        [
         1582,
         19,
         4,
         7890,
         "2002-03-01 13:00:00",
         "iOS-test",
         "Surprisingly good, maybe you are getting your mojo back at long last!"
        ],
        [
         1403,
         5,
         4,
         6423,
         "2001-12-02 01:00:00",
         "iOS",
         "Surprisingly good, maybe you are getting your mojo back at long last!"
        ],
        [
         1404,
         7,
         3,
         7758,
         "2001-12-02 13:00:00",
         "iOS-test",
         "why is it so difficult to keep the bathrooms clean ?"
        ],
        [
         1596,
         9,
         2,
         3272,
         "2002-03-08 13:00:00",
         "ios",
         "airport refurb looks great, will fly outta here more!"
        ],
        [
         1398,
         13,
         2,
         9075,
         "2001-11-29 13:00:00",
         "web",
         "airport refurb looks great, will fly outta here more!"
        ],
        [
         1532,
         3,
         2,
         6522,
         "2002-02-04 13:00:00",
         "iOS-test",
         "Exceeded all my expectations. Thank you !"
        ],
        [
         1597,
         17,
         3,
         5972,
         "2002-03-09 01:00:00",
         "iOS-test",
         "is this as good as it gets? really ?"
        ],
        [
         1453,
         -1,
         2,
         4507,
         "2001-12-27 01:00:00",
         "android",
         "(expletive deleted)"
        ],
        [
         1405,
         4,
         2,
         9088,
         "2001-12-03 01:00:00",
         "android",
         "more peanuts please"
        ],
        [
         1526,
         14,
         4,
         8623,
         "2002-02-01 13:00:00",
         "web",
         "your team here rocks!"
        ],
        [
         1420,
         19,
         2,
         6724,
         "2001-12-10 13:00:00",
         "iOS-test",
         "Surprisingly good, maybe you are getting your mojo back at long last!"
        ],
        [
         1595,
         0,
         3,
         5821,
         "2002-03-08 01:00:00",
         "iOS",
         "Surprisingly good, maybe you are getting your mojo back at long last!"
        ],
        [
         1599,
         17,
         4,
         7297,
         "2002-03-10 01:00:00",
         "android",
         "airport refurb looks great, will fly outta here more!"
        ],
        [
         1409,
         14,
         4,
         9013,
         "2001-12-05 01:00:00",
         "android",
         "airport refurb looks great, will fly outta here more!"
        ],
        [
         1414,
         7,
         1,
         3277,
         "2001-12-07 13:00:00",
         "iOS",
         "is this as good as it gets? really ?"
        ],
        [
         1602,
         0,
         1,
         8856,
         "2002-03-11 13:00:00",
         "web",
         "is this as good as it gets? really ?"
        ],
        [
         1461,
         8,
         1,
         5958,
         "2001-12-31 01:00:00",
         "web",
         "worst. flight. ever. #neveragain"
        ],
        [
         1601,
         11,
         2,
         6907,
         "2002-03-11 01:00:00",
         "android",
         "your team here rocks!"
        ],
        [
         1455,
         15,
         1,
         6858,
         "2001-12-28 01:00:00",
         "android",
         "more peanuts please"
        ],
        [
         1539,
         12,
         1,
         889,
         "2002-02-08 01:00:00",
         "ios",
         "meh"
        ],
        [
         1422,
         5,
         4,
         1014,
         "2001-12-11 13:00:00",
         "ios",
         "thank you for the most friendly, helpful experience today at your new lounge"
        ],
        [
         1541,
         1,
         4,
         32,
         "2002-02-09 01:00:00",
         "iOS-test",
         "airport refurb looks great, will fly outta here more!"
        ],
        [
         1419,
         4,
         2,
         6433,
         "2001-12-10 01:00:00",
         "iOS-test",
         "why is it so difficult to keep the bathrooms clean ?"
        ],
        [
         1464,
         9,
         2,
         9305,
         "2002-01-01 13:00:00",
         "ios",
         "airport refurb looks great, will fly outta here more!"
        ],
        [
         1474,
         19,
         1,
         4047,
         "2002-01-06 13:00:00",
         "iOS",
         "why is it so difficult to keep the bathrooms clean ?"
        ],
        [
         1607,
         17,
         4,
         3175,
         "2002-03-14 01:00:00",
         "android",
         "is this as good as it gets? really ?"
        ],
        [
         1603,
         5,
         4,
         1653,
         "2002-03-12 01:00:00",
         "web",
         "(expletive deleted)"
        ],
        [
         1424,
         4,
         2,
         8435,
         "2001-12-12 13:00:00",
         "iOS",
         "(expletive deleted)"
        ],
        [
         1608,
         19,
         1,
         8634,
         "2002-03-14 13:00:00",
         "android",
         "meh"
        ],
        [
         1540,
         9,
         1,
         8434,
         "2002-02-08 13:00:00",
         "web",
         "meh"
        ],
        [
         1478,
         -1,
         1,
         6872,
         "2002-01-08 13:00:00",
         "web",
         "Surprisingly good, maybe you are getting your mojo back at long last!"
        ],
        [
         1436,
         10,
         4,
         7428,
         "2001-12-18 13:00:00",
         "iOS-test",
         "Exceeded all my expectations. Thank you !"
        ],
        [
         1610,
         1,
         2,
         4429,
         "2002-03-15 13:00:00",
         "iOS-test",
         "more peanuts please"
        ],
        [
         1430,
         19,
         1,
         8385,
         "2001-12-15 13:00:00",
         "ios",
         "your team here rocks!"
        ],
        [
         1475,
         17,
         4,
         946,
         "2002-01-07 01:00:00",
         "iOS",
         "your team here rocks!"
        ],
        [
         1616,
         8,
         2,
         5753,
         "2002-03-18 13:00:00",
         "web",
         "your team here rocks!"
        ],
        [
         1614,
         4,
         1,
         7510,
         "2002-03-17 13:00:00",
         "web",
         "(expletive deleted)"
        ],
        [
         1445,
         14,
         3,
         4848,
         "2001-12-23 01:00:00",
         "web",
         "more peanuts please"
        ],
        [
         1446,
         12,
         3,
         7142,
         "2001-12-23 13:00:00",
         "ios",
         "more peanuts please"
        ],
        [
         1544,
         10,
         2,
         1330,
         "2002-02-10 13:00:00",
         "iOS-test",
         "meh"
        ],
        [
         1454,
         6,
         3,
         8711,
         "2001-12-27 13:00:00",
         "ios",
         "thank you for the most friendly, helpful experience today at your new lounge"
        ],
        [
         1549,
         15,
         2,
         3088,
         "2002-02-13 01:00:00",
         "android",
         "why is it so difficult to keep the bathrooms clean ?"
        ],
        [
         1613,
         12,
         2,
         5494,
         "2002-03-17 01:00:00",
         "web",
         "airport refurb looks great, will fly outta here more!"
        ],
        [
         1449,
         17,
         3,
         3385,
         "2001-12-25 01:00:00",
         "android",
         "Exceeded all my expectations. Thank you !"
        ],
        [
         1638,
         17,
         3,
         9304,
         "2002-03-29 13:00:00",
         "ios",
         "Exceeded all my expectations. Thank you !"
        ],
        [
         1553,
         16,
         4,
         7861,
         "2002-02-15 01:00:00",
         "iOS-test",
         "worst. flight. ever. #neveragain"
        ],
        [
         1617,
         5,
         2,
         3825,
         "2002-03-19 01:00:00",
         "iOS",
         "your team here rocks!"
        ],
        [
         1482,
         2,
         3,
         9168,
         "2002-01-10 13:00:00",
         "web",
         "your team here rocks!"
        ],
        [
         1431,
         2,
         4,
         9674,
         "2001-12-16 01:00:00",
         "ios",
         "more peanuts please"
        ],
        [
         1639,
         14,
         2,
         2340,
         "2002-03-30 01:00:00",
         "android",
         "meh"
        ],
        [
         1559,
         13,
         3,
         5134,
         "2002-02-18 01:00:00",
         "ios",
         "thank you for the most friendly, helpful experience today at your new lounge"
        ],
        [
         1469,
         2,
         4,
         735,
         "2002-01-04 01:00:00",
         "iOS",
         "thank you for the most friendly, helpful experience today at your new lounge"
        ],
        [
         1520,
         8,
         2,
         9346,
         "2002-01-29 13:00:00",
         "web",
         "thank you for the most friendly, helpful experience today at your new lounge"
        ],
        [
         1560,
         17,
         2,
         4735,
         "2002-02-18 13:00:00",
         "iOS",
         "Surprisingly good, maybe you are getting your mojo back at long last!"
        ],
        [
         1642,
         4,
         1,
         4103,
         "2002-03-31 13:00:00",
         "android",
         "is this as good as it gets? really ?"
        ],
        [
         1501,
         4,
         1,
         4598,
         "2002-01-20 01:00:00",
         "web",
         "is this as good as it gets? really ?"
        ],
        [
         1631,
         0,
         1,
         9805,
         "2002-03-26 01:00:00",
         "web",
         "is this as good as it gets? really ?"
        ],
        [
         1456,
         15,
         2,
         3729,
         "2001-12-28 13:00:00",
         "web",
         "is this as good as it gets? really ?"
        ],
        [
         1625,
         8,
         4,
         2271,
         "2002-03-23 01:00:00",
         "iOS",
         "(expletive deleted)"
        ],
        [
         1473,
         14,
         1,
         7197,
         "2002-01-06 01:00:00",
         "iOS",
         "(expletive deleted)"
        ],
        [
         1523,
         4,
         3,
         7183,
         "2002-01-31 01:00:00",
         "iOS",
         "thank you for the most friendly, helpful experience today at your new lounge"
        ],
        [
         1649,
         7,
         1,
         7820,
         "2002-04-04 01:00:00",
         "web",
         "thank you for the most friendly, helpful experience today at your new lounge"
        ],
        [
         1479,
         16,
         2,
         2834,
         "2002-01-09 01:00:00",
         "android",
         "airport refurb looks great, will fly outta here more!"
        ],
        [
         1470,
         8,
         4,
         648,
         "2002-01-04 13:00:00",
         "ios",
         "airport refurb looks great, will fly outta here more!"
        ],
        [
         1634,
         3,
         2,
         7820,
         "2002-03-27 13:00:00",
         "web",
         "airport refurb looks great, will fly outta here more!"
        ],
        [
         1476,
         9,
         4,
         4795,
         "2002-01-07 13:00:00",
         "iOS-test",
         "worst. flight. ever. #neveragain"
        ],
        [
         1571,
         3,
         4,
         7681,
         "2002-02-24 01:00:00",
         "android",
         "(expletive deleted)"
        ],
        [
         1563,
         7,
         3,
         998,
         "2002-02-20 01:00:00",
         "iOS",
         "more peanuts please"
        ],
        [
         1481,
         5,
         4,
         5583,
         "2002-01-10 01:00:00",
         "iOS-test",
         "meh"
        ],
        [
         1644,
         15,
         2,
         2529,
         "2002-04-01 13:00:00",
         "android",
         "meh"
        ],
        [
         1572,
         19,
         1,
         9536,
         "2002-02-24 13:00:00",
         "android",
         "thank you for the most friendly, helpful experience today at your new lounge"
        ],
        [
         1653,
         5,
         2,
         2293,
         "2002-04-06 01:00:00",
         "iOS-test",
         "Surprisingly good, maybe you are getting your mojo back at long last!"
        ],
        [
         1635,
         13,
         3,
         4869,
         "2002-03-28 01:00:00",
         "web",
         "Surprisingly good, maybe you are getting your mojo back at long last!"
        ],
        [
         1637,
         8,
         3,
         3329,
         "2002-03-29 01:00:00",
         "android",
         "airport refurb looks great, will fly outta here more!"
        ],
        [
         1484,
         9,
         2,
         5942,
         "2002-01-11 13:00:00",
         "iOS-test",
         "Exceeded all my expectations. Thank you !"
        ],
        [
         1488,
         5,
         4,
         4823,
         "2002-01-13 13:00:00",
         "android",
         "Exceeded all my expectations. Thank you !"
        ],
        [
         1529,
         6,
         1,
         9972,
         "2002-02-03 01:00:00",
         "android",
         "is this as good as it gets? really ?"
        ],
        [
         1494,
         2,
         1,
         5237,
         "2002-01-16 13:00:00",
         "ios",
         "worst. flight. ever. #neveragain"
        ],
        [
         1530,
         3,
         1,
         6989,
         "2002-02-03 13:00:00",
         "android",
         "meh"
        ],
        [
         1656,
         6,
         2,
         2041,
         "2002-04-07 13:00:00",
         "android",
         "meh"
        ],
        [
         1650,
         5,
         4,
         7474,
         "2002-04-04 13:00:00",
         "ios",
         "thank you for the most friendly, helpful experience today at your new lounge"
        ],
        [
         1497,
         8,
         1,
         6026,
         "2002-01-18 01:00:00",
         "web",
         "Surprisingly good, maybe you are getting your mojo back at long last!"
        ],
        [
         1658,
         18,
         4,
         4548,
         "2002-04-08 13:00:00",
         "android",
         "why is it so difficult to keep the bathrooms clean ?"
        ],
        [
         1550,
         13,
         4,
         4778,
         "2002-02-13 13:00:00",
         "iOS-test",
         "worst. flight. ever. #neveragain"
        ],
        [
         1490,
         16,
         4,
         3114,
         "2002-01-14 13:00:00",
         "ios",
         "worst. flight. ever. #neveragain"
        ],
        [
         1584,
         6,
         3,
         6236,
         "2002-03-02 13:00:00",
         "iOS-test",
         "(expletive deleted)"
        ]
       ],
       "datasetInfos": [],
       "dbfsResultPath": null,
       "isJsonSchema": true,
       "metadata": {},
       "overflow": false,
       "plotOptions": {
        "customPlotOptions": {},
        "displayType": "table",
        "pivotAggregation": null,
        "pivotColumns": null,
        "xColumns": null,
        "yColumns": null
       },
       "removedWidgets": [],
       "schema": [
        {
         "metadata": "{}",
         "name": "rating_id",
         "type": "\"integer\""
        },
        {
         "metadata": "{}",
         "name": "user_id",
         "type": "\"integer\""
        },
        {
         "metadata": "{}",
         "name": "stars",
         "type": "\"integer\""
        },
        {
         "metadata": "{}",
         "name": "route_id",
         "type": "\"integer\""
        },
        {
         "metadata": "{}",
         "name": "rating_time",
         "type": "\"string\""
        },
        {
         "metadata": "{}",
         "name": "channel",
         "type": "\"string\""
        },
        {
         "metadata": "{}",
         "name": "message",
         "type": "\"string\""
        }
       ],
       "type": "table"
      }
     },
     "output_type": "display_data"
    }
   ],
   "source": [
    "%sql\n",
    "select * from ratings"
   ]
  },
  {
   "cell_type": "markdown",
   "metadata": {
    "application/vnd.databricks.v1+cell": {
     "cellMetadata": {},
     "inputWidgets": {},
     "nuid": "428ff712-4176-45b6-b3c1-06a194b424d4",
     "showTitle": false,
     "title": ""
    }
   },
   "source": [
    "# Business Insights"
   ]
  },
  {
   "cell_type": "markdown",
   "metadata": {
    "application/vnd.databricks.v1+cell": {
     "cellMetadata": {},
     "inputWidgets": {},
     "nuid": "c79786ed-80e2-4b72-8f70-fd0eb74b03bf",
     "showTitle": false,
     "title": ""
    }
   },
   "source": [
    "## Channels Used"
   ]
  },
  {
   "cell_type": "code",
   "execution_count": 0,
   "metadata": {
    "application/vnd.databricks.v1+cell": {
     "cellMetadata": {
      "byteLimit": 2048000,
      "implicitDf": true,
      "rowLimit": 10000
     },
     "inputWidgets": {},
     "nuid": "59d56bad-41c6-4c7e-99a8-315ebf1c4f96",
     "showTitle": false,
     "title": ""
    }
   },
   "outputs": [
    {
     "output_type": "display_data",
     "data": {
      "text/html": [
       "<style scoped>\n",
       "  .table-result-container {\n",
       "    max-height: 300px;\n",
       "    overflow: auto;\n",
       "  }\n",
       "  table, th, td {\n",
       "    border: 1px solid black;\n",
       "    border-collapse: collapse;\n",
       "  }\n",
       "  th, td {\n",
       "    padding: 5px;\n",
       "  }\n",
       "  th {\n",
       "    text-align: left;\n",
       "  }\n",
       "</style><div class='table-result-container'><table class='table-result'><thead style='background-color: white'><tr><th>channel</th><th>count(1)</th></tr></thead><tbody><tr><td>android</td><td>13</td></tr><tr><td>iOS</td><td>13</td></tr><tr><td>iOS-test</td><td>14</td></tr><tr><td>web</td><td>14</td></tr><tr><td>ios</td><td>16</td></tr></tbody></table></div>"
      ]
     },
     "metadata": {
      "application/vnd.databricks.v1+output": {
       "addedWidgets": {},
       "aggData": [],
       "aggError": "",
       "aggOverflow": false,
       "aggSchema": [],
       "aggSeriesLimitReached": false,
       "aggType": "",
       "arguments": {},
       "columnCustomDisplayInfos": {},
       "data": [
        [
         "android",
         13
        ],
        [
         "iOS",
         13
        ],
        [
         "iOS-test",
         14
        ],
        [
         "web",
         14
        ],
        [
         "ios",
         16
        ]
       ],
       "datasetInfos": [],
       "dbfsResultPath": null,
       "isJsonSchema": true,
       "metadata": {
        "isDbfsCommandResult": false
       },
       "overflow": false,
       "plotOptions": {
        "customPlotOptions": {},
        "displayType": "table",
        "pivotAggregation": null,
        "pivotColumns": null,
        "xColumns": null,
        "yColumns": null
       },
       "removedWidgets": [],
       "schema": [
        {
         "metadata": "{}",
         "name": "channel",
         "type": "\"string\""
        },
        {
         "metadata": "{\"__autoGeneratedAlias\":\"true\"}",
         "name": "count(1)",
         "type": "\"long\""
        }
       ],
       "type": "table"
      }
     },
     "output_type": "display_data"
    },
    {
     "output_type": "display_data",
     "data": {
      "text/plain": [
       "Databricks visualization. Run in Databricks to view."
      ]
     },
     "metadata": {
      "application/vnd.databricks.v1.subcommand+json": {
       "baseErrorDetails": null,
       "bindings": {},
       "collapsed": false,
       "command": "# Databricks no-op command",
       "commandTitle": "Visualization 1",
       "commandType": "auto",
       "commandVersion": 0,
       "commentThread": [],
       "commentsVisible": false,
       "contentSha256Hex": null,
       "customPlotOptions": {
        "redashChart": [
         {
          "key": "type",
          "value": "CHART"
         },
         {
          "key": "options",
          "value": {
           "alignYAxesAtZero": true,
           "coefficient": 1,
           "columnConfigurationMap": {
            "x": {
             "column": "channel",
             "id": "column_ae2a53164"
            },
            "y": [
             {
              "column": "count(1)",
              "id": "column_ae2a53165",
              "transform": "SUM"
             }
            ]
           },
           "dateTimeFormat": "DD/MM/YYYY HH:mm",
           "direction": {
            "type": "counterclockwise"
           },
           "error_y": {
            "type": "data",
            "visible": true
           },
           "globalSeriesType": "column",
           "legend": {
            "traceorder": "normal"
           },
           "missingValuesAsZero": true,
           "numberFormat": "0,0.[00000]",
           "percentFormat": "0[.]00%",
           "series": {
            "error_y": {
             "type": "data",
             "visible": true
            },
            "stacking": null
           },
           "seriesOptions": {
            "column_ae2a53165": {
             "name": "count(1)",
             "yAxis": 0
            }
           },
           "showDataLabels": false,
           "sizemode": "diameter",
           "sortX": true,
           "sortY": true,
           "swappedAxes": true,
           "textFormat": "",
           "useAggregationsUi": true,
           "valuesOptions": {},
           "version": 2,
           "xAxis": {
            "labels": {
             "enabled": true
            },
            "type": "-"
           },
           "yAxis": [
            {
             "type": "-"
            },
            {
             "opposite": true,
             "type": "-"
            }
           ]
          }
         }
        ]
       },
       "datasetPreviewNameToCmdIdMap": {},
       "diffDeletes": [],
       "diffInserts": [],
       "displayType": "redashChart",
       "error": null,
       "errorDetails": null,
       "errorSummary": null,
       "errorTraceType": null,
       "finishTime": 0,
       "globalVars": {},
       "guid": "",
       "height": "auto",
       "hideCommandCode": false,
       "hideCommandResult": false,
       "iPythonMetadata": null,
       "inputWidgets": {},
       "isLockedInExamMode": false,
       "latestUser": "a user",
       "latestUserId": null,
       "listResultMetadata": null,
       "metadata": {},
       "nuid": "75938d06-c55c-4d31-bfb5-eaaae7c69409",
       "origId": 0,
       "parentHierarchy": [],
       "pivotAggregation": null,
       "pivotColumns": null,
       "position": 1.0,
       "resultDbfsErrorMessage": null,
       "resultDbfsStatus": "INLINED_IN_TREE",
       "results": null,
       "showCommandTitle": false,
       "startTime": 0,
       "state": "input",
       "streamStates": {},
       "subcommandOptions": {
        "queryPlan": {
         "groups": [
          {
           "column": "channel",
           "type": "column"
          }
         ],
         "selects": [
          {
           "column": "channel",
           "type": "column"
          },
          {
           "alias": "column_ae2a53165",
           "args": [
            {
             "column": "count(1)",
             "type": "column"
            }
           ],
           "function": "SUM",
           "type": "function"
          }
         ]
        }
       },
       "submitTime": 0,
       "subtype": "tableResultSubCmd.visualization",
       "tableResultIndex": 0,
       "useConsistentColors": false,
       "version": "CommandV1",
       "width": "auto",
       "workflows": [],
       "xColumns": null,
       "yColumns": null
      }
     },
     "output_type": "display_data"
    }
   ],
   "source": [
    "%sql\n",
    "select channel, count(*) \n",
    "from ratings\n",
    "group by channel"
   ]
  },
  {
   "cell_type": "markdown",
   "metadata": {
    "application/vnd.databricks.v1+cell": {
     "cellMetadata": {},
     "inputWidgets": {},
     "nuid": "1864a502-e6ac-41ad-a01f-848b08ac4c0e",
     "showTitle": false,
     "title": ""
    }
   },
   "source": [
    "## #Ratings"
   ]
  },
  {
   "cell_type": "code",
   "execution_count": 0,
   "metadata": {
    "application/vnd.databricks.v1+cell": {
     "cellMetadata": {
      "byteLimit": 2048000,
      "implicitDf": true,
      "rowLimit": 10000
     },
     "inputWidgets": {},
     "nuid": "484b3c87-0b3d-4dee-9af8-79a2ff346609",
     "showTitle": false,
     "title": ""
    }
   },
   "outputs": [
    {
     "output_type": "display_data",
     "data": {
      "text/html": [
       "<style scoped>\n",
       "  .table-result-container {\n",
       "    max-height: 300px;\n",
       "    overflow: auto;\n",
       "  }\n",
       "  table, th, td {\n",
       "    border: 1px solid black;\n",
       "    border-collapse: collapse;\n",
       "  }\n",
       "  th, td {\n",
       "    padding: 5px;\n",
       "  }\n",
       "  th {\n",
       "    text-align: left;\n",
       "  }\n",
       "</style><div class='table-result-container'><table class='table-result'><thead style='background-color: white'><tr><th>stars</th><th>count(1)</th></tr></thead><tbody><tr><td>1</td><td>35</td></tr><tr><td>3</td><td>24</td></tr><tr><td>4</td><td>33</td></tr><tr><td>2</td><td>34</td></tr></tbody></table></div>"
      ]
     },
     "metadata": {
      "application/vnd.databricks.v1+output": {
       "addedWidgets": {},
       "aggData": [],
       "aggError": "",
       "aggOverflow": false,
       "aggSchema": [],
       "aggSeriesLimitReached": false,
       "aggType": "",
       "arguments": {},
       "columnCustomDisplayInfos": {},
       "data": [
        [
         1,
         35
        ],
        [
         3,
         24
        ],
        [
         4,
         33
        ],
        [
         2,
         34
        ]
       ],
       "datasetInfos": [],
       "dbfsResultPath": null,
       "isJsonSchema": true,
       "metadata": {
        "isDbfsCommandResult": false
       },
       "overflow": false,
       "plotOptions": {
        "customPlotOptions": {},
        "displayType": "table",
        "pivotAggregation": null,
        "pivotColumns": null,
        "xColumns": null,
        "yColumns": null
       },
       "removedWidgets": [],
       "schema": [
        {
         "metadata": "{}",
         "name": "stars",
         "type": "\"integer\""
        },
        {
         "metadata": "{\"__autoGeneratedAlias\":\"true\"}",
         "name": "count(1)",
         "type": "\"long\""
        }
       ],
       "type": "table"
      }
     },
     "output_type": "display_data"
    },
    {
     "output_type": "display_data",
     "data": {
      "text/plain": [
       "Databricks visualization. Run in Databricks to view."
      ]
     },
     "metadata": {
      "application/vnd.databricks.v1.subcommand+json": {
       "baseErrorDetails": null,
       "bindings": {},
       "collapsed": false,
       "command": "# Databricks no-op command",
       "commandTitle": "Visualization 1",
       "commandType": "auto",
       "commandVersion": 0,
       "commentThread": [],
       "commentsVisible": false,
       "contentSha256Hex": null,
       "customPlotOptions": {
        "redashChart": [
         {
          "key": "type",
          "value": "CHART"
         },
         {
          "key": "options",
          "value": {
           "alignYAxesAtZero": true,
           "coefficient": 1,
           "columnConfigurationMap": {
            "x": {
             "column": "stars",
             "id": "column_3306a6a51"
            },
            "y": [
             {
              "column": "count(1)",
              "id": "column_3306a6a52",
              "transform": "SUM"
             }
            ]
           },
           "dateTimeFormat": "DD/MM/YYYY HH:mm",
           "direction": {
            "type": "counterclockwise"
           },
           "error_y": {
            "type": "data",
            "visible": true
           },
           "globalSeriesType": "column",
           "isAggregationOn": true,
           "legend": {
            "traceorder": "normal"
           },
           "missingValuesAsZero": true,
           "numberFormat": "0,0.[00000]",
           "percentFormat": "0[.]00%",
           "series": {
            "error_y": {
             "type": "data",
             "visible": true
            },
            "stacking": null
           },
           "seriesOptions": {
            "column_3306a6a52": {
             "name": "count(1)",
             "type": "column",
             "yAxis": 0
            }
           },
           "showDataLabels": false,
           "sizemode": "diameter",
           "sortX": true,
           "sortY": true,
           "swappedAxes": false,
           "textFormat": "",
           "useAggregationsUi": true,
           "valuesOptions": {},
           "version": 2,
           "xAxis": {
            "labels": {
             "enabled": true
            },
            "type": "-"
           },
           "yAxis": [
            {
             "type": "-"
            },
            {
             "opposite": true,
             "type": "-"
            }
           ]
          }
         }
        ]
       },
       "datasetPreviewNameToCmdIdMap": {},
       "diffDeletes": [],
       "diffInserts": [],
       "displayType": "redashChart",
       "error": null,
       "errorDetails": null,
       "errorSummary": null,
       "errorTraceType": null,
       "finishTime": 0,
       "globalVars": {},
       "guid": "",
       "height": "auto",
       "hideCommandCode": false,
       "hideCommandResult": false,
       "iPythonMetadata": null,
       "inputWidgets": {},
       "isLockedInExamMode": false,
       "latestUser": "a user",
       "latestUserId": null,
       "listResultMetadata": null,
       "metadata": {},
       "nuid": "5a39555b-e722-4d97-ab18-ab2001d792e6",
       "origId": 0,
       "parentHierarchy": [],
       "pivotAggregation": null,
       "pivotColumns": null,
       "position": 2.909090909090909,
       "resultDbfsErrorMessage": null,
       "resultDbfsStatus": "INLINED_IN_TREE",
       "results": null,
       "showCommandTitle": false,
       "startTime": 0,
       "state": "input",
       "streamStates": {},
       "subcommandOptions": {
        "queryPlan": {
         "groups": [
          {
           "column": "stars",
           "type": "column"
          }
         ],
         "selects": [
          {
           "column": "stars",
           "type": "column"
          },
          {
           "alias": "column_3306a6a52",
           "args": [
            {
             "column": "count(1)",
             "type": "column"
            }
           ],
           "function": "SUM",
           "type": "function"
          }
         ]
        }
       },
       "submitTime": 0,
       "subtype": "tableResultSubCmd.visualization",
       "tableResultIndex": 0,
       "useConsistentColors": false,
       "version": "CommandV1",
       "width": "auto",
       "workflows": [],
       "xColumns": null,
       "yColumns": null
      }
     },
     "output_type": "display_data"
    }
   ],
   "source": [
    "%sql\n",
    "select stars, count(*) \n",
    "from ratings\n",
    "group by stars"
   ]
  },
  {
   "cell_type": "markdown",
   "metadata": {
    "application/vnd.databricks.v1+cell": {
     "cellMetadata": {},
     "inputWidgets": {},
     "nuid": "4e765719-0f93-4133-a21d-a57cf6b7b974",
     "showTitle": false,
     "title": ""
    }
   },
   "source": [
    "## Channel wise avg rating"
   ]
  },
  {
   "cell_type": "code",
   "execution_count": 0,
   "metadata": {
    "application/vnd.databricks.v1+cell": {
     "cellMetadata": {
      "byteLimit": 2048000,
      "implicitDf": true,
      "rowLimit": 10000
     },
     "inputWidgets": {},
     "nuid": "2417e446-f4ba-40fe-ae09-2f9ee4b4da5e",
     "showTitle": false,
     "title": ""
    }
   },
   "outputs": [
    {
     "output_type": "display_data",
     "data": {
      "text/html": [
       "<style scoped>\n",
       "  .table-result-container {\n",
       "    max-height: 300px;\n",
       "    overflow: auto;\n",
       "  }\n",
       "  table, th, td {\n",
       "    border: 1px solid black;\n",
       "    border-collapse: collapse;\n",
       "  }\n",
       "  th, td {\n",
       "    padding: 5px;\n",
       "  }\n",
       "  th {\n",
       "    text-align: left;\n",
       "  }\n",
       "</style><div class='table-result-container'><table class='table-result'><thead style='background-color: white'><tr><th>channel</th><th>avg_rating</th></tr></thead><tbody><tr><td>android</td><td>2.375</td></tr><tr><td>iOS</td><td>2.2666666666666666</td></tr><tr><td>iOS-test</td><td>2.7777777777777777</td></tr><tr><td>web</td><td>2.35</td></tr><tr><td>ios</td><td>2.2857142857142856</td></tr></tbody></table></div>"
      ]
     },
     "metadata": {
      "application/vnd.databricks.v1+output": {
       "addedWidgets": {},
       "aggData": [],
       "aggError": "",
       "aggOverflow": false,
       "aggSchema": [],
       "aggSeriesLimitReached": false,
       "aggType": "",
       "arguments": {},
       "columnCustomDisplayInfos": {},
       "data": [
        [
         "android",
         2.375
        ],
        [
         "iOS",
         2.2666666666666666
        ],
        [
         "iOS-test",
         2.7777777777777777
        ],
        [
         "web",
         2.35
        ],
        [
         "ios",
         2.2857142857142856
        ]
       ],
       "datasetInfos": [],
       "dbfsResultPath": null,
       "isJsonSchema": true,
       "metadata": {
        "isDbfsCommandResult": false
       },
       "overflow": false,
       "plotOptions": {
        "customPlotOptions": {},
        "displayType": "table",
        "pivotAggregation": null,
        "pivotColumns": null,
        "xColumns": null,
        "yColumns": null
       },
       "removedWidgets": [],
       "schema": [
        {
         "metadata": "{}",
         "name": "channel",
         "type": "\"string\""
        },
        {
         "metadata": "{}",
         "name": "avg_rating",
         "type": "\"double\""
        }
       ],
       "type": "table"
      }
     },
     "output_type": "display_data"
    },
    {
     "output_type": "display_data",
     "data": {
      "text/plain": [
       "Databricks visualization. Run in Databricks to view."
      ]
     },
     "metadata": {
      "application/vnd.databricks.v1.subcommand+json": {
       "baseErrorDetails": null,
       "bindings": {},
       "collapsed": false,
       "command": "# Databricks no-op command",
       "commandTitle": "Visualization 1",
       "commandType": "auto",
       "commandVersion": 0,
       "commentThread": [],
       "commentsVisible": false,
       "contentSha256Hex": null,
       "customPlotOptions": {
        "redashChart": [
         {
          "key": "type",
          "value": "CHART"
         },
         {
          "key": "options",
          "value": {
           "alignYAxesAtZero": true,
           "coefficient": 1,
           "columnConfigurationMap": {
            "x": {
             "column": "channel",
             "id": "column_ae2a53167"
            },
            "y": [
             {
              "column": "avg_rating",
              "id": "column_ae2a53168",
              "transform": "SUM"
             }
            ]
           },
           "dateTimeFormat": "DD/MM/YYYY HH:mm",
           "direction": {
            "type": "counterclockwise"
           },
           "error_y": {
            "type": "data",
            "visible": true
           },
           "globalSeriesType": "pie",
           "legend": {
            "traceorder": "normal"
           },
           "missingValuesAsZero": true,
           "numberFormat": "0,0.[00000]",
           "percentFormat": "0[.]00%",
           "series": {
            "error_y": {
             "type": "data",
             "visible": true
            },
            "stacking": null
           },
           "seriesOptions": {
            "column_ae2a53168": {
             "name": "avg_rating",
             "type": "pie",
             "yAxis": 0
            }
           },
           "showDataLabels": true,
           "sizemode": "diameter",
           "sortX": true,
           "sortY": true,
           "swappedAxes": false,
           "textFormat": "",
           "useAggregationsUi": true,
           "valuesOptions": {},
           "version": 2,
           "xAxis": {
            "labels": {
             "enabled": true
            },
            "type": "-"
           },
           "yAxis": [
            {
             "type": "-"
            },
            {
             "opposite": true,
             "type": "-"
            }
           ]
          }
         }
        ]
       },
       "datasetPreviewNameToCmdIdMap": {},
       "diffDeletes": [],
       "diffInserts": [],
       "displayType": "redashChart",
       "error": null,
       "errorDetails": null,
       "errorSummary": null,
       "errorTraceType": null,
       "finishTime": 0,
       "globalVars": {},
       "guid": "",
       "height": "auto",
       "hideCommandCode": false,
       "hideCommandResult": false,
       "iPythonMetadata": null,
       "inputWidgets": {},
       "isLockedInExamMode": false,
       "latestUser": "a user",
       "latestUserId": null,
       "listResultMetadata": null,
       "metadata": {},
       "nuid": "4fc1da19-6296-40ca-bd4d-8babb39242cf",
       "origId": 0,
       "parentHierarchy": [],
       "pivotAggregation": null,
       "pivotColumns": null,
       "position": 1.0,
       "resultDbfsErrorMessage": null,
       "resultDbfsStatus": "INLINED_IN_TREE",
       "results": null,
       "showCommandTitle": false,
       "startTime": 0,
       "state": "input",
       "streamStates": {},
       "subcommandOptions": {
        "queryPlan": {
         "groups": [
          {
           "column": "channel",
           "type": "column"
          }
         ],
         "selects": [
          {
           "column": "channel",
           "type": "column"
          },
          {
           "alias": "column_ae2a53168",
           "args": [
            {
             "column": "avg_rating",
             "type": "column"
            }
           ],
           "function": "SUM",
           "type": "function"
          }
         ]
        }
       },
       "submitTime": 0,
       "subtype": "tableResultSubCmd.visualization",
       "tableResultIndex": 0,
       "useConsistentColors": false,
       "version": "CommandV1",
       "width": "auto",
       "workflows": [],
       "xColumns": null,
       "yColumns": null
      }
     },
     "output_type": "display_data"
    }
   ],
   "source": [
    "%sql\n",
    "select channel, avg(stars) as avg_rating\n",
    "from ratings\n",
    "group by channel"
   ]
  },
  {
   "cell_type": "markdown",
   "metadata": {
    "application/vnd.databricks.v1+cell": {
     "cellMetadata": {},
     "inputWidgets": {},
     "nuid": "2ffc0bdf-84d1-4ab9-b7fb-191adb7ba32d",
     "showTitle": false,
     "title": ""
    }
   },
   "source": [
    "## Change in channel ratings over time (trend)"
   ]
  },
  {
   "cell_type": "code",
   "execution_count": 0,
   "metadata": {
    "application/vnd.databricks.v1+cell": {
     "cellMetadata": {
      "byteLimit": 2048000,
      "implicitDf": true,
      "rowLimit": 10000
     },
     "inputWidgets": {},
     "nuid": "3cc8b88a-4edd-405a-9010-0a1f9adc5a5a",
     "showTitle": false,
     "title": ""
    }
   },
   "outputs": [
    {
     "output_type": "display_data",
     "data": {
      "text/html": [
       "<style scoped>\n",
       "  .table-result-container {\n",
       "    max-height: 300px;\n",
       "    overflow: auto;\n",
       "  }\n",
       "  table, th, td {\n",
       "    border: 1px solid black;\n",
       "    border-collapse: collapse;\n",
       "  }\n",
       "  th, td {\n",
       "    padding: 5px;\n",
       "  }\n",
       "  th {\n",
       "    text-align: left;\n",
       "  }\n",
       "</style><div class='table-result-container'><table class='table-result'><thead style='background-color: white'><tr><th>channel</th><th>rating_date</th><th>avg_rating</th></tr></thead><tbody><tr><td>android</td><td>2002-02-27</td><td>4.0</td></tr><tr><td>android</td><td>2002-03-05</td><td>1.0</td></tr><tr><td>iOS-test</td><td>2002-02-25</td><td>4.0</td></tr><tr><td>iOS-test</td><td>2002-02-04</td><td>3.0</td></tr><tr><td>iOS-test</td><td>2002-02-19</td><td>3.0</td></tr><tr><td>iOS</td><td>2001-12-17</td><td>4.0</td></tr><tr><td>ios</td><td>2002-01-19</td><td>1.0</td></tr><tr><td>iOS</td><td>2002-02-10</td><td>1.0</td></tr><tr><td>iOS-test</td><td>2001-12-10</td><td>2.0</td></tr><tr><td>android</td><td>2001-12-05</td><td>4.0</td></tr><tr><td>web</td><td>2002-03-11</td><td>1.0</td></tr><tr><td>iOS-test</td><td>2001-12-02</td><td>3.0</td></tr><tr><td>web</td><td>2001-11-23</td><td>4.0</td></tr><tr><td>web</td><td>2002-01-31</td><td>3.0</td></tr><tr><td>iOS</td><td>2001-12-02</td><td>4.0</td></tr><tr><td>android</td><td>2002-03-11</td><td>2.0</td></tr><tr><td>android</td><td>2001-12-03</td><td>2.0</td></tr><tr><td>ios</td><td>2002-01-15</td><td>1.0</td></tr><tr><td>iOS</td><td>2001-11-29</td><td>2.0</td></tr><tr><td>iOS-test</td><td>2002-03-02</td><td>3.0</td></tr><tr><td>ios</td><td>2002-02-08</td><td>1.0</td></tr><tr><td>ios</td><td>2001-12-15</td><td>1.0</td></tr><tr><td>ios</td><td>2001-11-27</td><td>1.0</td></tr><tr><td>ios</td><td>2002-01-14</td><td>3.0</td></tr><tr><td>web</td><td>2002-02-22</td><td>3.0</td></tr><tr><td>web</td><td>2001-11-28</td><td>3.0</td></tr><tr><td>web</td><td>2001-11-29</td><td>2.0</td></tr><tr><td>android</td><td>2002-02-22</td><td>2.0</td></tr><tr><td>android</td><td>2001-12-28</td><td>1.0</td></tr><tr><td>ios</td><td>2001-12-19</td><td>4.0</td></tr><tr><td>ios</td><td>2002-01-26</td><td>3.0</td></tr><tr><td>iOS</td><td>2001-11-30</td><td>2.0</td></tr><tr><td>iOS</td><td>2001-12-22</td><td>3.0</td></tr><tr><td>iOS-test</td><td>2001-12-09</td><td>2.0</td></tr><tr><td>iOS</td><td>2002-03-08</td><td>3.0</td></tr><tr><td>iOS</td><td>2001-11-21</td><td>1.0</td></tr><tr><td>web</td><td>2001-11-19</td><td>2.0</td></tr><tr><td>android</td><td>2001-12-27</td><td>2.0</td></tr><tr><td>web</td><td>2001-11-25</td><td>4.0</td></tr><tr><td>iOS-test</td><td>2001-11-12</td><td>1.0</td></tr><tr><td>ios</td><td>2001-11-10</td><td>4.0</td></tr><tr><td>iOS</td><td>2001-12-07</td><td>1.0</td></tr><tr><td>ios</td><td>2002-02-26</td><td>1.0</td></tr><tr><td>iOS</td><td>2001-12-12</td><td>2.0</td></tr><tr><td>web</td><td>2001-12-31</td><td>1.0</td></tr><tr><td>web</td><td>2001-11-16</td><td>2.0</td></tr><tr><td>iOS-test</td><td>2002-03-09</td><td>3.0</td></tr><tr><td>iOS-test</td><td>2001-12-24</td><td>1.0</td></tr><tr><td>iOS-test</td><td>2002-03-01</td><td>4.0</td></tr><tr><td>android</td><td>2002-01-24</td><td>2.0</td></tr><tr><td>android</td><td>2002-02-06</td><td>2.0</td></tr><tr><td>web</td><td>2002-02-01</td><td>4.0</td></tr><tr><td>android</td><td>2002-03-10</td><td>4.0</td></tr><tr><td>ios</td><td>2001-11-21</td><td>1.0</td></tr><tr><td>ios</td><td>2002-03-08</td><td>2.0</td></tr><tr><td>ios</td><td>2002-01-28</td><td>4.0</td></tr><tr><td>web</td><td>2002-02-20</td><td>1.0</td></tr></tbody></table></div>"
      ]
     },
     "metadata": {
      "application/vnd.databricks.v1+output": {
       "addedWidgets": {},
       "aggData": [],
       "aggError": "",
       "aggOverflow": false,
       "aggSchema": [],
       "aggSeriesLimitReached": false,
       "aggType": "",
       "arguments": {},
       "columnCustomDisplayInfos": {},
       "data": [
        [
         "android",
         "2002-02-27",
         4.0
        ],
        [
         "android",
         "2002-03-05",
         1.0
        ],
        [
         "iOS-test",
         "2002-02-25",
         4.0
        ],
        [
         "iOS-test",
         "2002-02-04",
         3.0
        ],
        [
         "iOS-test",
         "2002-02-19",
         3.0
        ],
        [
         "iOS",
         "2001-12-17",
         4.0
        ],
        [
         "ios",
         "2002-01-19",
         1.0
        ],
        [
         "iOS",
         "2002-02-10",
         1.0
        ],
        [
         "iOS-test",
         "2001-12-10",
         2.0
        ],
        [
         "android",
         "2001-12-05",
         4.0
        ],
        [
         "web",
         "2002-03-11",
         1.0
        ],
        [
         "iOS-test",
         "2001-12-02",
         3.0
        ],
        [
         "web",
         "2001-11-23",
         4.0
        ],
        [
         "web",
         "2002-01-31",
         3.0
        ],
        [
         "iOS",
         "2001-12-02",
         4.0
        ],
        [
         "android",
         "2002-03-11",
         2.0
        ],
        [
         "android",
         "2001-12-03",
         2.0
        ],
        [
         "ios",
         "2002-01-15",
         1.0
        ],
        [
         "iOS",
         "2001-11-29",
         2.0
        ],
        [
         "iOS-test",
         "2002-03-02",
         3.0
        ],
        [
         "ios",
         "2002-02-08",
         1.0
        ],
        [
         "ios",
         "2001-12-15",
         1.0
        ],
        [
         "ios",
         "2001-11-27",
         1.0
        ],
        [
         "ios",
         "2002-01-14",
         3.0
        ],
        [
         "web",
         "2002-02-22",
         3.0
        ],
        [
         "web",
         "2001-11-28",
         3.0
        ],
        [
         "web",
         "2001-11-29",
         2.0
        ],
        [
         "android",
         "2002-02-22",
         2.0
        ],
        [
         "android",
         "2001-12-28",
         1.0
        ],
        [
         "ios",
         "2001-12-19",
         4.0
        ],
        [
         "ios",
         "2002-01-26",
         3.0
        ],
        [
         "iOS",
         "2001-11-30",
         2.0
        ],
        [
         "iOS",
         "2001-12-22",
         3.0
        ],
        [
         "iOS-test",
         "2001-12-09",
         2.0
        ],
        [
         "iOS",
         "2002-03-08",
         3.0
        ],
        [
         "iOS",
         "2001-11-21",
         1.0
        ],
        [
         "web",
         "2001-11-19",
         2.0
        ],
        [
         "android",
         "2001-12-27",
         2.0
        ],
        [
         "web",
         "2001-11-25",
         4.0
        ],
        [
         "iOS-test",
         "2001-11-12",
         1.0
        ],
        [
         "ios",
         "2001-11-10",
         4.0
        ],
        [
         "iOS",
         "2001-12-07",
         1.0
        ],
        [
         "ios",
         "2002-02-26",
         1.0
        ],
        [
         "iOS",
         "2001-12-12",
         2.0
        ],
        [
         "web",
         "2001-12-31",
         1.0
        ],
        [
         "web",
         "2001-11-16",
         2.0
        ],
        [
         "iOS-test",
         "2002-03-09",
         3.0
        ],
        [
         "iOS-test",
         "2001-12-24",
         1.0
        ],
        [
         "iOS-test",
         "2002-03-01",
         4.0
        ],
        [
         "android",
         "2002-01-24",
         2.0
        ],
        [
         "android",
         "2002-02-06",
         2.0
        ],
        [
         "web",
         "2002-02-01",
         4.0
        ],
        [
         "android",
         "2002-03-10",
         4.0
        ],
        [
         "ios",
         "2001-11-21",
         1.0
        ],
        [
         "ios",
         "2002-03-08",
         2.0
        ],
        [
         "ios",
         "2002-01-28",
         4.0
        ],
        [
         "web",
         "2002-02-20",
         1.0
        ]
       ],
       "datasetInfos": [],
       "dbfsResultPath": null,
       "isJsonSchema": true,
       "metadata": {
        "isDbfsCommandResult": false
       },
       "overflow": false,
       "plotOptions": {
        "customPlotOptions": {},
        "displayType": "table",
        "pivotAggregation": null,
        "pivotColumns": null,
        "xColumns": null,
        "yColumns": null
       },
       "removedWidgets": [],
       "schema": [
        {
         "metadata": "{}",
         "name": "channel",
         "type": "\"string\""
        },
        {
         "metadata": "{}",
         "name": "rating_date",
         "type": "\"date\""
        },
        {
         "metadata": "{}",
         "name": "avg_rating",
         "type": "\"double\""
        }
       ],
       "type": "table"
      }
     },
     "output_type": "display_data"
    },
    {
     "output_type": "display_data",
     "data": {
      "text/plain": [
       "Databricks visualization. Run in Databricks to view."
      ]
     },
     "metadata": {
      "application/vnd.databricks.v1.subcommand+json": {
       "baseErrorDetails": null,
       "bindings": {},
       "collapsed": false,
       "command": "# Databricks no-op command",
       "commandTitle": "Visualization 1",
       "commandType": "auto",
       "commandVersion": 0,
       "commentThread": [],
       "commentsVisible": false,
       "contentSha256Hex": null,
       "customPlotOptions": {
        "redashChart": [
         {
          "key": "type",
          "value": "CHART"
         },
         {
          "key": "options",
          "value": {
           "alignYAxesAtZero": true,
           "coefficient": 1,
           "columnConfigurationMap": {
            "series": {
             "column": "channel",
             "id": "column_ae2a531621"
            },
            "x": {
             "column": "rating_date",
             "id": "column_ae2a531619"
            },
            "y": [
             {
              "column": "avg_rating",
              "id": "column_ae2a531612",
              "transform": "SUM"
             }
            ]
           },
           "dateTimeFormat": "DD/MM/YYYY HH:mm",
           "direction": {
            "type": "counterclockwise"
           },
           "error_y": {
            "type": "data",
            "visible": true
           },
           "globalSeriesType": "line",
           "isAggregationOn": true,
           "legend": {
            "traceorder": "normal"
           },
           "missingValuesAsZero": false,
           "numberFormat": "0,0.[00000]",
           "percentFormat": "0[.]00%",
           "series": {
            "error_y": {
             "type": "data",
             "visible": true
            },
            "percentValues": false,
            "stacking": null
           },
           "seriesOptions": {
            "column_ae2a531612": {
             "type": "line",
             "yAxis": 0
            }
           },
           "showDataLabels": false,
           "sizemode": "diameter",
           "sortX": true,
           "sortY": true,
           "swappedAxes": false,
           "textFormat": "",
           "useAggregationsUi": true,
           "valuesOptions": {},
           "version": 2,
           "xAxis": {
            "labels": {
             "enabled": true
            },
            "type": "-"
           },
           "yAxis": [
            {
             "type": "-"
            },
            {
             "opposite": true,
             "type": "-"
            }
           ]
          }
         }
        ]
       },
       "datasetPreviewNameToCmdIdMap": {},
       "diffDeletes": [],
       "diffInserts": [],
       "displayType": "redashChart",
       "error": null,
       "errorDetails": null,
       "errorSummary": null,
       "errorTraceType": null,
       "finishTime": 0,
       "globalVars": {},
       "guid": "",
       "height": "auto",
       "hideCommandCode": false,
       "hideCommandResult": false,
       "iPythonMetadata": null,
       "inputWidgets": {},
       "isLockedInExamMode": false,
       "latestUser": "a user",
       "latestUserId": null,
       "listResultMetadata": null,
       "metadata": {},
       "nuid": "55cae63b-fe73-4c77-8c2b-d65db8c75e03",
       "origId": 0,
       "parentHierarchy": [],
       "pivotAggregation": null,
       "pivotColumns": null,
       "position": 1.0,
       "resultDbfsErrorMessage": null,
       "resultDbfsStatus": "INLINED_IN_TREE",
       "results": null,
       "showCommandTitle": false,
       "startTime": 0,
       "state": "input",
       "streamStates": {},
       "subcommandOptions": {
        "queryPlan": {
         "groups": [
          {
           "column": "rating_date",
           "type": "column"
          },
          {
           "column": "channel",
           "type": "column"
          }
         ],
         "selects": [
          {
           "column": "rating_date",
           "type": "column"
          },
          {
           "alias": "column_ae2a531612",
           "args": [
            {
             "column": "avg_rating",
             "type": "column"
            }
           ],
           "function": "SUM",
           "type": "function"
          },
          {
           "column": "channel",
           "type": "column"
          }
         ]
        }
       },
       "submitTime": 0,
       "subtype": "tableResultSubCmd.visualization",
       "tableResultIndex": 0,
       "useConsistentColors": false,
       "version": "CommandV1",
       "width": "auto",
       "workflows": [],
       "xColumns": null,
       "yColumns": null
      }
     },
     "output_type": "display_data"
    }
   ],
   "source": [
    "%sql\n",
    "select channel, date(rating_time) as rating_date, avg(stars) as avg_rating\n",
    "from ratings\n",
    "group by channel, date(rating_time)"
   ]
  },
  {
   "cell_type": "code",
   "execution_count": 0,
   "metadata": {
    "application/vnd.databricks.v1+cell": {
     "cellMetadata": {},
     "inputWidgets": {},
     "nuid": "5e1516b9-8bb1-4f51-8ad4-535a34a16c01",
     "showTitle": false,
     "title": ""
    }
   },
   "outputs": [],
   "source": []
  }
 ],
 "metadata": {
  "application/vnd.databricks.v1+notebook": {
   "dashboards": [],
   "language": "python",
   "notebookMetadata": {
    "mostRecentlyExecutedCommandWithImplicitDF": {
     "commandId": 2042515557813464,
     "dataframes": [
      "_sqldf"
     ]
    },
    "pythonIndentUnit": 4
   },
   "notebookName": "Ratings_process_notebook",
   "widgets": {}
  }
 },
 "nbformat": 4,
 "nbformat_minor": 0
}
