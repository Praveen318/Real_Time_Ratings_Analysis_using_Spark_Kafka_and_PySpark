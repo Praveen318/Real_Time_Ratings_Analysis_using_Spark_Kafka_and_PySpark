{
 "cells": [
  {
   "cell_type": "markdown",
   "metadata": {
    "application/vnd.databricks.v1+cell": {
     "cellMetadata": {},
     "inputWidgets": {},
     "nuid": "1c1208b3-4c58-4900-9262-e57a82ccb1cd",
     "showTitle": false,
     "title": ""
    }
   },
   "source": [
    "## **Big Data Engineering Group Assignment** \n",
    "### **Salmoli Chandra 24PGAI0057**\n",
    "### **Meera Karamta 24PGAI0003**\n",
    "### **Kishnu Srivastava 24PGAI0042**\n",
    "### **Praveen Kumar Singh 24PGAI0068**"
   ]
  },
  {
   "cell_type": "code",
   "execution_count": 0,
   "metadata": {
    "application/vnd.databricks.v1+cell": {
     "cellMetadata": {
      "byteLimit": 2048000,
      "rowLimit": 10000
     },
     "inputWidgets": {},
     "nuid": "4d8a2ef0-1033-48cf-83dd-4c0eceb2788f",
     "showTitle": false,
     "title": ""
    }
   },
   "outputs": [
    {
     "output_type": "display_data",
     "data": {
      "text/html": [
       "\n",
       "            <div>\n",
       "                <p><b>SparkSession - hive</b></p>\n",
       "                \n",
       "        <div>\n",
       "            <p><b>SparkContext</b></p>\n",
       "\n",
       "            <p><a href=\"/?o=5310005861608239#setting/sparkui/0406-160755-1nepssqk/driver-5395037033025169193\">Spark UI</a></p>\n",
       "\n",
       "            <dl>\n",
       "              <dt>Version</dt>\n",
       "                <dd><code>v3.3.2</code></dd>\n",
       "              <dt>Master</dt>\n",
       "                <dd><code>local[8]</code></dd>\n",
       "              <dt>AppName</dt>\n",
       "                <dd><code>Databricks Shell</code></dd>\n",
       "            </dl>\n",
       "        </div>\n",
       "        \n",
       "            </div>\n",
       "        "
      ]
     },
     "metadata": {
      "application/vnd.databricks.v1+output": {
       "addedWidgets": {},
       "arguments": {},
       "data": "\n            <div>\n                <p><b>SparkSession - hive</b></p>\n                \n        <div>\n            <p><b>SparkContext</b></p>\n\n            <p><a href=\"/?o=5310005861608239#setting/sparkui/0406-160755-1nepssqk/driver-5395037033025169193\">Spark UI</a></p>\n\n            <dl>\n              <dt>Version</dt>\n                <dd><code>v3.3.2</code></dd>\n              <dt>Master</dt>\n                <dd><code>local[8]</code></dd>\n              <dt>AppName</dt>\n                <dd><code>Databricks Shell</code></dd>\n            </dl>\n        </div>\n        \n            </div>\n        ",
       "datasetInfos": [],
       "metadata": {},
       "removedWidgets": [],
       "textData": null,
       "type": "htmlSandbox"
      }
     },
     "output_type": "display_data"
    }
   ],
   "source": [
    "spark"
   ]
  },
  {
   "cell_type": "markdown",
   "metadata": {
    "application/vnd.databricks.v1+cell": {
     "cellMetadata": {},
     "inputWidgets": {},
     "nuid": "f7b1820f-5bfa-4cd3-9508-70650d4975ca",
     "showTitle": false,
     "title": ""
    }
   },
   "source": [
    "\n",
    "### Install Confluent Libraries\n",
    "\n",
    "```\n",
    "confluent-kafka[avro,json,protobuf]>=1.4.2\n",
    "\n",
    "```"
   ]
  },
  {
   "cell_type": "markdown",
   "metadata": {
    "application/vnd.databricks.v1+cell": {
     "cellMetadata": {},
     "inputWidgets": {},
     "nuid": "39eb54e7-59e7-4217-9619-79e4bf885027",
     "showTitle": false,
     "title": ""
    }
   },
   "source": [
    "## Streaming data from confluent servers\n",
    "\n",
    "#### Endpoints\n",
    "```\n",
    "Bootstrap server\t: pkc-12576z.us-west2.gcp.confluent.cloud:9092\n",
    "```\n",
    "\n",
    "ConfluentIO Adaptor\n",
    "\n",
    "```\n",
    "Select output record value format: JSON\n",
    "Select a template: RATINGS\n",
    "```\n"
   ]
  },
  {
   "cell_type": "markdown",
   "metadata": {
    "application/vnd.databricks.v1+cell": {
     "cellMetadata": {},
     "inputWidgets": {},
     "nuid": "fdb34956-8382-471b-8228-5bdb2c0c726a",
     "showTitle": false,
     "title": ""
    }
   },
   "source": [
    "# Stream Ingestion"
   ]
  },
  {
   "cell_type": "code",
   "execution_count": 0,
   "metadata": {
    "application/vnd.databricks.v1+cell": {
     "cellMetadata": {
      "byteLimit": 2048000,
      "rowLimit": 10000
     },
     "inputWidgets": {},
     "nuid": "5a9ba90c-2b0d-4385-ab09-1b21179c000d",
     "showTitle": false,
     "title": ""
    }
   },
   "outputs": [],
   "source": [
    "# Subscribe to 1 topic\n",
    "\n",
    "confluentApiKey = 'VO4DBIVRWZQV6V4Q'\n",
    "\n",
    "confluentSecret = 'Y5wqrwJTNldowy6/R6RqAgStwYc/I4GREAhmW+1BEkVyaphYevD0x01ttllpFcv2'\n",
    "\n",
    "confluentTopicName = 'topic_0'\n",
    "\n",
    "stream_df = ( spark\n",
    "             .readStream\n",
    "             .format(\"kafka\")\n",
    "             .option(\"kafka.bootstrap.servers\", \"pkc-12576z.us-west2.gcp.confluent.cloud:9092\")\n",
    "             .option(\"kafka.security.protocol\", \"SASL_SSL\")\n",
    "             .option(\"kafka.sasl.jaas.config\", \"kafkashaded.org.apache.kafka.common.security.plain.PlainLoginModule required username='{}' password='{}';\".format(confluentApiKey, confluentSecret))\n",
    "             .option(\"kafka.ssl.endpoint.identification.algorithm\", \"https\")\n",
    "             .option(\"kafka.sasl.mechanism\", \"PLAIN\")\n",
    "             .option(\"subscribe\", confluentTopicName)\n",
    "             .option(\"startingOffsets\", \"earliest\")\n",
    "             .option(\"maxOffsetsPerTrigger\", 10)\n",
    "             .option(\"failOnDataLoss\", \"false\")\n",
    "             .load() )\n",
    "\n",
    "message_df = stream_df.selectExpr(\"CAST(key AS STRING)\", \"CAST(value AS STRING)\")"
   ]
  },
  {
   "cell_type": "code",
   "execution_count": 0,
   "metadata": {
    "application/vnd.databricks.v1+cell": {
     "cellMetadata": {
      "byteLimit": 2048000,
      "rowLimit": 10000
     },
     "inputWidgets": {},
     "nuid": "2616f562-ea36-4383-81c4-95a223d7c696",
     "showTitle": false,
     "title": ""
    }
   },
   "outputs": [],
   "source": [
    "from pyspark.sql.types import StructType, StructField, DoubleType, IntegerType, StringType\n",
    "from pyspark.sql.functions import col, from_json, split\n",
    "from pyspark.sql.types import StructType, StructField, IntegerType, StringType\n",
    "\n",
    "\n",
    "schema = StructType([\n",
    "    StructField(\"rating_id\", IntegerType(), True),\n",
    "    StructField(\"user_id\", IntegerType(), True),\n",
    "    StructField(\"stars\", IntegerType(), True),\n",
    "    StructField(\"route_id\", IntegerType(), True),\n",
    "    StructField(\"rating_time\", IntegerType(), True),\n",
    "    StructField(\"channel\", StringType(), True),\n",
    "    StructField(\"message\", StringType(), True)\n",
    "])\n",
    "    \n",
    "\n",
    "new_rating_df = message_df.select (from_json(\"value\",schema).alias(\"data\")).select(col(\"data.*\"))"
   ]
  },
  {
   "cell_type": "code",
   "execution_count": 0,
   "metadata": {
    "application/vnd.databricks.v1+cell": {
     "cellMetadata": {
      "byteLimit": 2048000,
      "rowLimit": 10000
     },
     "inputWidgets": {},
     "nuid": "965418a6-9513-4c9a-aeab-8bb4682125de",
     "showTitle": false,
     "title": ""
    }
   },
   "outputs": [],
   "source": [
    "new_rating_df = new_rating_df.withColumn(\"rating_time\", expr(\"from_unixtime(unix_timestamp('2000-01-01 00:00:00') + rating_time*3600)\"))"
   ]
  },
  {
   "cell_type": "code",
   "execution_count": 0,
   "metadata": {
    "application/vnd.databricks.v1+cell": {
     "cellMetadata": {
      "byteLimit": 2048000,
      "rowLimit": 10000
     },
     "inputWidgets": {},
     "nuid": "c2b3080b-f460-4304-9041-7e47f67bd39e",
     "showTitle": false,
     "title": ""
    }
   },
   "outputs": [
    {
     "output_type": "display_data",
     "data": {
      "text/html": [
       "<style scoped>\n",
       "  .table-result-container {\n",
       "    max-height: 300px;\n",
       "    overflow: auto;\n",
       "  }\n",
       "  table, th, td {\n",
       "    border: 1px solid black;\n",
       "    border-collapse: collapse;\n",
       "  }\n",
       "  th, td {\n",
       "    padding: 5px;\n",
       "  }\n",
       "  th {\n",
       "    text-align: left;\n",
       "  }\n",
       "</style><div class='table-result-container'><table class='table-result'><thead style='background-color: white'><tr><th>rating_id</th><th>user_id</th><th>stars</th><th>route_id</th><th>rating_time</th><th>channel</th><th>message</th></tr></thead><tbody><tr><td>6</td><td>4</td><td>2</td><td>3120</td><td>2000-01-03 13:00:00</td><td>iOS-test</td><td>why is it so difficult to keep the bathrooms clean ?</td></tr><tr><td>3</td><td>19</td><td>2</td><td>2118</td><td>2000-01-02 01:00:00</td><td>android</td><td>more peanuts please</td></tr><tr><td>2</td><td>17</td><td>4</td><td>5719</td><td>2000-01-01 13:00:00</td><td>iOS-test</td><td>Exceeded all my expectations. Thank you !</td></tr><tr><td>1</td><td>3</td><td>4</td><td>5548</td><td>2000-01-01 01:00:00</td><td>ios</td><td>airport refurb looks great, will fly outta here more!</td></tr><tr><td>4</td><td>-1</td><td>2</td><td>4632</td><td>2000-01-02 13:00:00</td><td>web</td><td>Surprisingly good, maybe you are getting your mojo back at long last!</td></tr><tr><td>5</td><td>15</td><td>2</td><td>7752</td><td>2000-01-03 01:00:00</td><td>iOS-test</td><td>worst. flight. ever. #neveragain</td></tr><tr><td>10</td><td>13</td><td>1</td><td>6696</td><td>2000-01-05 13:00:00</td><td>iOS-test</td><td>airport refurb looks great, will fly outta here more!</td></tr><tr><td>9</td><td>5</td><td>4</td><td>2732</td><td>2000-01-05 01:00:00</td><td>iOS</td><td>why is it so difficult to keep the bathrooms clean ?</td></tr><tr><td>36</td><td>19</td><td>4</td><td>7747</td><td>2000-01-18 13:00:00</td><td>iOS</td><td>thank you for the most friendly, helpful experience today at your new lounge</td></tr><tr><td>7</td><td>15</td><td>2</td><td>7178</td><td>2000-01-04 01:00:00</td><td>iOS-test</td><td>your team here rocks!</td></tr><tr><td>13</td><td>6</td><td>3</td><td>2417</td><td>2000-01-07 01:00:00</td><td>iOS</td><td>thank you for the most friendly, helpful experience today at your new lounge</td></tr><tr><td>11</td><td>2</td><td>3</td><td>5271</td><td>2000-01-06 01:00:00</td><td>web</td><td>why is it so difficult to keep the bathrooms clean ?</td></tr><tr><td>12</td><td>15</td><td>2</td><td>600</td><td>2000-01-06 13:00:00</td><td>iOS-test</td><td>Exceeded all my expectations. Thank you !</td></tr><tr><td>16</td><td>14</td><td>3</td><td>7717</td><td>2000-01-08 13:00:00</td><td>web</td><td>(expletive deleted)</td></tr><tr><td>41</td><td>4</td><td>4</td><td>7499</td><td>2000-01-21 01:00:00</td><td>ios</td><td>Surprisingly good, maybe you are getting your mojo back at long last!</td></tr><tr><td>8</td><td>16</td><td>3</td><td>1234</td><td>2000-01-04 13:00:00</td><td>iOS-test</td><td>meh</td></tr><tr><td>14</td><td>11</td><td>1</td><td>5739</td><td>2000-01-07 13:00:00</td><td>web</td><td>Exceeded all my expectations. Thank you !</td></tr><tr><td>15</td><td>13</td><td>3</td><td>4829</td><td>2000-01-08 01:00:00</td><td>iOS</td><td>your team here rocks!</td></tr><tr><td>18</td><td>10</td><td>3</td><td>6</td><td>2000-01-09 13:00:00</td><td>android</td><td>why is it so difficult to keep the bathrooms clean ?</td></tr><tr><td>29</td><td>1</td><td>4</td><td>2113</td><td>2000-01-15 01:00:00</td><td>android</td><td>thank you for the most friendly, helpful experience today at your new lounge</td></tr><tr><td>49</td><td>16</td><td>1</td><td>3503</td><td>2000-01-25 01:00:00</td><td>iOS</td><td>worst. flight. ever. #neveragain</td></tr><tr><td>22</td><td>18</td><td>3</td><td>1773</td><td>2000-01-11 13:00:00</td><td>web</td><td>your team here rocks!</td></tr><tr><td>19</td><td>7</td><td>3</td><td>3031</td><td>2000-01-10 01:00:00</td><td>ios</td><td>your team here rocks!</td></tr><tr><td>17</td><td>10</td><td>1</td><td>9708</td><td>2000-01-09 01:00:00</td><td>iOS-test</td><td>why is it so difficult to keep the bathrooms clean ?</td></tr><tr><td>20</td><td>19</td><td>3</td><td>3308</td><td>2000-01-10 13:00:00</td><td>web</td><td>more peanuts please</td></tr><tr><td>32</td><td>16</td><td>3</td><td>8938</td><td>2000-01-16 13:00:00</td><td>iOS-test</td><td>meh</td></tr><tr><td>69</td><td>2</td><td>4</td><td>9329</td><td>2000-02-04 01:00:00</td><td>android</td><td>worst. flight. ever. #neveragain</td></tr><tr><td>25</td><td>8</td><td>2</td><td>5924</td><td>2000-01-13 01:00:00</td><td>iOS</td><td>thank you for the most friendly, helpful experience today at your new lounge</td></tr><tr><td>24</td><td>0</td><td>4</td><td>3055</td><td>2000-01-12 13:00:00</td><td>android</td><td>Surprisingly good, maybe you are getting your mojo back at long last!</td></tr><tr><td>21</td><td>17</td><td>2</td><td>4839</td><td>2000-01-11 01:00:00</td><td>iOS-test</td><td>thank you for the most friendly, helpful experience today at your new lounge</td></tr></tbody></table></div>"
      ]
     },
     "metadata": {
      "application/vnd.databricks.v1+output": {
       "addedWidgets": {},
       "aggData": [],
       "aggError": "",
       "aggOverflow": false,
       "aggSchema": [],
       "aggSeriesLimitReached": false,
       "aggType": "",
       "arguments": {},
       "columnCustomDisplayInfos": {},
       "data": [
        [
         6,
         4,
         2,
         3120,
         "2000-01-03 13:00:00",
         "iOS-test",
         "why is it so difficult to keep the bathrooms clean ?"
        ],
        [
         3,
         19,
         2,
         2118,
         "2000-01-02 01:00:00",
         "android",
         "more peanuts please"
        ],
        [
         2,
         17,
         4,
         5719,
         "2000-01-01 13:00:00",
         "iOS-test",
         "Exceeded all my expectations. Thank you !"
        ],
        [
         1,
         3,
         4,
         5548,
         "2000-01-01 01:00:00",
         "ios",
         "airport refurb looks great, will fly outta here more!"
        ],
        [
         4,
         -1,
         2,
         4632,
         "2000-01-02 13:00:00",
         "web",
         "Surprisingly good, maybe you are getting your mojo back at long last!"
        ],
        [
         5,
         15,
         2,
         7752,
         "2000-01-03 01:00:00",
         "iOS-test",
         "worst. flight. ever. #neveragain"
        ],
        [
         10,
         13,
         1,
         6696,
         "2000-01-05 13:00:00",
         "iOS-test",
         "airport refurb looks great, will fly outta here more!"
        ],
        [
         9,
         5,
         4,
         2732,
         "2000-01-05 01:00:00",
         "iOS",
         "why is it so difficult to keep the bathrooms clean ?"
        ],
        [
         36,
         19,
         4,
         7747,
         "2000-01-18 13:00:00",
         "iOS",
         "thank you for the most friendly, helpful experience today at your new lounge"
        ],
        [
         7,
         15,
         2,
         7178,
         "2000-01-04 01:00:00",
         "iOS-test",
         "your team here rocks!"
        ],
        [
         13,
         6,
         3,
         2417,
         "2000-01-07 01:00:00",
         "iOS",
         "thank you for the most friendly, helpful experience today at your new lounge"
        ],
        [
         11,
         2,
         3,
         5271,
         "2000-01-06 01:00:00",
         "web",
         "why is it so difficult to keep the bathrooms clean ?"
        ],
        [
         12,
         15,
         2,
         600,
         "2000-01-06 13:00:00",
         "iOS-test",
         "Exceeded all my expectations. Thank you !"
        ],
        [
         16,
         14,
         3,
         7717,
         "2000-01-08 13:00:00",
         "web",
         "(expletive deleted)"
        ],
        [
         41,
         4,
         4,
         7499,
         "2000-01-21 01:00:00",
         "ios",
         "Surprisingly good, maybe you are getting your mojo back at long last!"
        ],
        [
         8,
         16,
         3,
         1234,
         "2000-01-04 13:00:00",
         "iOS-test",
         "meh"
        ],
        [
         14,
         11,
         1,
         5739,
         "2000-01-07 13:00:00",
         "web",
         "Exceeded all my expectations. Thank you !"
        ],
        [
         15,
         13,
         3,
         4829,
         "2000-01-08 01:00:00",
         "iOS",
         "your team here rocks!"
        ],
        [
         18,
         10,
         3,
         6,
         "2000-01-09 13:00:00",
         "android",
         "why is it so difficult to keep the bathrooms clean ?"
        ],
        [
         29,
         1,
         4,
         2113,
         "2000-01-15 01:00:00",
         "android",
         "thank you for the most friendly, helpful experience today at your new lounge"
        ],
        [
         49,
         16,
         1,
         3503,
         "2000-01-25 01:00:00",
         "iOS",
         "worst. flight. ever. #neveragain"
        ],
        [
         22,
         18,
         3,
         1773,
         "2000-01-11 13:00:00",
         "web",
         "your team here rocks!"
        ],
        [
         19,
         7,
         3,
         3031,
         "2000-01-10 01:00:00",
         "ios",
         "your team here rocks!"
        ],
        [
         17,
         10,
         1,
         9708,
         "2000-01-09 01:00:00",
         "iOS-test",
         "why is it so difficult to keep the bathrooms clean ?"
        ],
        [
         20,
         19,
         3,
         3308,
         "2000-01-10 13:00:00",
         "web",
         "more peanuts please"
        ],
        [
         32,
         16,
         3,
         8938,
         "2000-01-16 13:00:00",
         "iOS-test",
         "meh"
        ],
        [
         69,
         2,
         4,
         9329,
         "2000-02-04 01:00:00",
         "android",
         "worst. flight. ever. #neveragain"
        ],
        [
         25,
         8,
         2,
         5924,
         "2000-01-13 01:00:00",
         "iOS",
         "thank you for the most friendly, helpful experience today at your new lounge"
        ],
        [
         24,
         0,
         4,
         3055,
         "2000-01-12 13:00:00",
         "android",
         "Surprisingly good, maybe you are getting your mojo back at long last!"
        ],
        [
         21,
         17,
         2,
         4839,
         "2000-01-11 01:00:00",
         "iOS-test",
         "thank you for the most friendly, helpful experience today at your new lounge"
        ]
       ],
       "datasetInfos": [],
       "dbfsResultPath": null,
       "isJsonSchema": true,
       "metadata": {
        "isDbfsCommandResult": false
       },
       "overflow": false,
       "plotOptions": {
        "customPlotOptions": {},
        "displayType": "table",
        "pivotAggregation": null,
        "pivotColumns": null,
        "xColumns": null,
        "yColumns": null
       },
       "removedWidgets": [],
       "schema": [
        {
         "metadata": "{}",
         "name": "rating_id",
         "type": "\"integer\""
        },
        {
         "metadata": "{}",
         "name": "user_id",
         "type": "\"integer\""
        },
        {
         "metadata": "{}",
         "name": "stars",
         "type": "\"integer\""
        },
        {
         "metadata": "{}",
         "name": "route_id",
         "type": "\"integer\""
        },
        {
         "metadata": "{}",
         "name": "rating_time",
         "type": "\"string\""
        },
        {
         "metadata": "{}",
         "name": "channel",
         "type": "\"string\""
        },
        {
         "metadata": "{}",
         "name": "message",
         "type": "\"string\""
        }
       ],
       "type": "table"
      }
     },
     "output_type": "display_data"
    }
   ],
   "source": [
    "display(new_rating_df)"
   ]
  },
  {
   "cell_type": "code",
   "execution_count": 0,
   "metadata": {
    "application/vnd.databricks.v1+cell": {
     "cellMetadata": {
      "byteLimit": 2048000,
      "rowLimit": 10000
     },
     "inputWidgets": {},
     "nuid": "1a940eea-2d4d-431c-ad2e-d9cedcb068d3",
     "showTitle": false,
     "title": ""
    }
   },
   "outputs": [
    {
     "output_type": "stream",
     "name": "stdout",
     "output_type": "stream",
     "text": [
      "Out[71]: <pyspark.sql.streaming.query.StreamingQuery at 0x7f7678908bb0>"
     ]
    }
   ],
   "source": [
    "from pyspark.sql.functions import *\n",
    "\n",
    "spark.conf.set(\"spark.sql.shuffle.partitions\", \"2\")\n",
    "\n",
    "usercount_df = new_rating_df.groupby(col(\"stars\")).count()\n",
    "\n",
    "query = (\n",
    "  usercount_df\n",
    "    .writeStream\n",
    "    .trigger(processingTime='5 seconds')\n",
    "    .format(\"memory\")        # memory = store in-memory table (for testing only in Spark 2.0)\n",
    "    .queryName(\"nstarcounts\")     # counts = name of the in-memory table\n",
    "    .outputMode(\"complete\")  # complete = all the counts should be in the table\n",
    "    .start()\n",
    ")\n",
    "\n",
    "\n",
    "new_rating_df.writeStream\\\n",
    "  .format(\"delta\")\\\n",
    "  .outputMode(\"append\")\\\n",
    "  .option(\"checkpointLocation\", \"/tmp/delta/ratings/_checkpoints/\")\\\n",
    "  .start(\"/delta/ratings\")\n",
    "\n"
   ]
  },
  {
   "cell_type": "code",
   "execution_count": 0,
   "metadata": {
    "application/vnd.databricks.v1+cell": {
     "cellMetadata": {
      "byteLimit": 2048000,
      "rowLimit": 10000
     },
     "inputWidgets": {},
     "nuid": "486e247d-6b21-4bdc-bcda-f0f2a51a62f6",
     "showTitle": false,
     "title": ""
    }
   },
   "outputs": [
    {
     "output_type": "display_data",
     "data": {
      "text/html": [
       "<style scoped>\n",
       "  .ansiout {\n",
       "    display: block;\n",
       "    unicode-bidi: embed;\n",
       "    white-space: pre-wrap;\n",
       "    word-wrap: break-word;\n",
       "    word-break: break-all;\n",
       "    font-family: \"Menlo\", \"Monaco\", \"Consolas\", \"Ubuntu Mono\", \"Source Code Pro\", monospace;\n",
       "    font-size: 13px;\n",
       "    color: #555;\n",
       "    margin-left: 4px;\n",
       "    line-height: 19px;\n",
       "  }\n",
       "</style>\n",
       "<div class=\"ansiout\"></div>"
      ]
     },
     "metadata": {
      "application/vnd.databricks.v1+output": {
       "addedWidgets": {},
       "arguments": {},
       "data": "<div class=\"ansiout\"></div>",
       "datasetInfos": [],
       "metadata": {
        "isDbfsCommandResult": false
       },
       "removedWidgets": [],
       "type": "html"
      }
     },
     "output_type": "display_data"
    },
    {
     "output_type": "display_data",
     "data": {
      "text/html": [
       "<style scoped>\n",
       "  .ansiout {\n",
       "    display: block;\n",
       "    unicode-bidi: embed;\n",
       "    white-space: pre-wrap;\n",
       "    word-wrap: break-word;\n",
       "    word-break: break-all;\n",
       "    font-family: \"Menlo\", \"Monaco\", \"Consolas\", \"Ubuntu Mono\", \"Source Code Pro\", monospace;\n",
       "    font-size: 13px;\n",
       "    color: #555;\n",
       "    margin-left: 4px;\n",
       "    line-height: 19px;\n",
       "  }\n",
       "</style>\n",
       "<div class=\"ansiout\">\tat com.databricks.backend.daemon.data.client.DbfsClient.send0(DbfsClient.scala:121)\n",
       "\tat com.databricks.backend.daemon.data.client.DbfsClient.sendIdempotent(DbfsClient.scala:69)\n",
       "\tat com.databricks.backend.daemon.data.client.DatabricksFileSystemV1.listStatus(DatabricksFileSystemV1.scala:179)\n",
       "\tat com.databricks.backend.daemon.data.client.DatabricksFileSystem.listStatus(DatabricksFileSystem.scala:161)\n",
       "\tat com.databricks.backend.daemon.dbutils.FSUtils.lsWithLimit(DBUtilsCore.scala:254)\n",
       "\tat com.databricks.backend.daemon.dbutils.FSUtils.$anonfun$lsImpl$2(DBUtilsCore.scala:223)\n",
       "\tat com.databricks.backend.daemon.dbutils.FSUtils.withFsSafetyCheck(DBUtilsCore.scala:145)\n",
       "\tat com.databricks.backend.daemon.dbutils.FSUtils.$anonfun$lsImpl$1(DBUtilsCore.scala:221)\n",
       "\tat com.databricks.backend.daemon.dbutils.FSUtils.checkPermission(DBUtilsCore.scala:140)\n",
       "\tat com.databricks.backend.daemon.dbutils.FSUtils.lsImpl(DBUtilsCore.scala:221)\n",
       "\tat com.databricks.backend.daemon.dbutils.FSUtils.$anonfun$ls$1(DBUtilsCore.scala:211)\n",
       "\tat com.databricks.logging.UsageLogging.$anonfun$recordOperation$1(UsageLogging.scala:560)\n",
       "\tat com.databricks.logging.UsageLogging.executeThunkAndCaptureResultTags$1(UsageLogging.scala:656)\n",
       "\tat com.databricks.logging.UsageLogging.$anonfun$recordOperationWithResultTags$4(UsageLogging.scala:677)\n",
       "\tat com.databricks.logging.UsageLogging.$anonfun$withAttributionContext$1(UsageLogging.scala:414)\n",
       "\tat scala.util.DynamicVariable.withValue(DynamicVariable.scala:62)\n",
       "\tat com.databricks.logging.AttributionContext$.withValue(AttributionContext.scala:158)\n",
       "\tat com.databricks.logging.UsageLogging.withAttributionContext(UsageLogging.scala:412)\n",
       "\tat com.databricks.logging.UsageLogging.withAttributionContext$(UsageLogging.scala:409)\n",
       "\tat com.databricks.backend.daemon.dbutils.FSUtils.withAttributionContext(DBUtilsCore.scala:69)\n",
       "\tat com.databricks.logging.UsageLogging.withAttributionTags(UsageLogging.scala:457)\n",
       "\tat com.databricks.logging.UsageLogging.withAttributionTags$(UsageLogging.scala:442)\n",
       "\tat com.databricks.backend.daemon.dbutils.FSUtils.withAttributionTags(DBUtilsCore.scala:69)\n",
       "\tat com.databricks.logging.UsageLogging.recordOperationWithResultTags(UsageLogging.scala:651)\n",
       "\tat com.databricks.logging.UsageLogging.recordOperationWithResultTags$(UsageLogging.scala:569)\n",
       "\tat com.databricks.backend.daemon.dbutils.FSUtils.recordOperationWithResultTags(DBUtilsCore.scala:69)\n",
       "\tat com.databricks.logging.UsageLogging.recordOperation(UsageLogging.scala:560)\n",
       "\tat com.databricks.logging.UsageLogging.recordOperation$(UsageLogging.scala:528)\n",
       "\tat com.databricks.backend.daemon.dbutils.FSUtils.recordOperation(DBUtilsCore.scala:69)\n",
       "\tat com.databricks.backend.daemon.dbutils.FSUtils.recordDbutilsFsOp(DBUtilsCore.scala:133)\n",
       "\tat com.databricks.backend.daemon.dbutils.FSUtils.ls(DBUtilsCore.scala:211)\n",
       "\tat com.databricks.dbutils_v1.impl.DbfsUtilsImpl.ls(DbfsUtilsImpl.scala:67)\n",
       "\tat $line6510185b46fa45cca3576b9b3afd3a9b29.$read$$iw$$iw$$iw$$iw$$iw$$iw.&lt;init&gt;(command-2042515557813446:1)\n",
       "\tat $line6510185b46fa45cca3576b9b3afd3a9b29.$read$$iw$$iw$$iw$$iw$$iw.&lt;init&gt;(command-2042515557813446:43)\n",
       "\tat $line6510185b46fa45cca3576b9b3afd3a9b29.$read$$iw$$iw$$iw$$iw.&lt;init&gt;(command-2042515557813446:45)\n",
       "\tat $line6510185b46fa45cca3576b9b3afd3a9b29.$read$$iw$$iw$$iw.&lt;init&gt;(command-2042515557813446:47)\n",
       "\tat $line6510185b46fa45cca3576b9b3afd3a9b29.$read$$iw$$iw.&lt;init&gt;(command-2042515557813446:49)\n",
       "\tat $line6510185b46fa45cca3576b9b3afd3a9b29.$read$$iw.&lt;init&gt;(command-2042515557813446:51)\n",
       "\tat $line6510185b46fa45cca3576b9b3afd3a9b29.$read.&lt;init&gt;(command-2042515557813446:53)\n",
       "\tat $line6510185b46fa45cca3576b9b3afd3a9b29.$read$.&lt;init&gt;(command-2042515557813446:57)\n",
       "\tat $line6510185b46fa45cca3576b9b3afd3a9b29.$read$.&lt;clinit&gt;(command-2042515557813446)\n",
       "\tat $line6510185b46fa45cca3576b9b3afd3a9b29.$eval$.$print$lzycompute(&lt;notebook&gt;:7)\n",
       "\tat $line6510185b46fa45cca3576b9b3afd3a9b29.$eval$.$print(&lt;notebook&gt;:6)\n",
       "\tat $line6510185b46fa45cca3576b9b3afd3a9b29.$eval.$print(&lt;notebook&gt;)\n",
       "\tat sun.reflect.NativeMethodAccessorImpl.invoke0(Native Method)\n",
       "\tat sun.reflect.NativeMethodAccessorImpl.invoke(NativeMethodAccessorImpl.java:62)\n",
       "\tat sun.reflect.DelegatingMethodAccessorImpl.invoke(DelegatingMethodAccessorImpl.java:43)\n",
       "\tat java.lang.reflect.Method.invoke(Method.java:498)\n",
       "\tat scala.tools.nsc.interpreter.IMain$ReadEvalPrint.call(IMain.scala:747)\n",
       "\tat scala.tools.nsc.interpreter.IMain$Request.loadAndRun(IMain.scala:1020)\n",
       "\tat scala.tools.nsc.interpreter.IMain.$anonfun$interpret$1(IMain.scala:568)\n",
       "\tat scala.reflect.internal.util.ScalaClassLoader.asContext(ScalaClassLoader.scala:36)\n",
       "\tat scala.reflect.internal.util.ScalaClassLoader.asContext$(ScalaClassLoader.scala:116)\n",
       "\tat scala.reflect.internal.util.AbstractFileClassLoader.asContext(AbstractFileClassLoader.scala:41)\n",
       "\tat scala.tools.nsc.interpreter.IMain.loadAndRunReq$1(IMain.scala:567)\n",
       "\tat scala.tools.nsc.interpreter.IMain.interpret(IMain.scala:594)\n",
       "\tat scala.tools.nsc.interpreter.IMain.interpret(IMain.scala:564)\n",
       "\tat com.databricks.backend.daemon.driver.DriverILoop.execute(DriverILoop.scala:223)\n",
       "\tat com.databricks.backend.daemon.driver.ScalaDriverLocal.$anonfun$repl$1(ScalaDriverLocal.scala:227)\n",
       "\tat scala.runtime.java8.JFunction0$mcV$sp.apply(JFunction0$mcV$sp.java:23)\n",
       "\tat com.databricks.backend.daemon.driver.DriverLocal$TrapExitInternal$.trapExit(DriverLocal.scala:1286)\n",
       "\tat com.databricks.backend.daemon.driver.DriverLocal$TrapExit$.apply(DriverLocal.scala:1239)\n",
       "\tat com.databricks.backend.daemon.driver.ScalaDriverLocal.repl(ScalaDriverLocal.scala:227)\n",
       "\tat com.databricks.backend.daemon.driver.DriverLocal.$anonfun$execute$24(DriverLocal.scala:892)\n",
       "\tat com.databricks.unity.EmptyHandle$.runWith(UCSHandle.scala:125)\n",
       "\tat com.databricks.backend.daemon.driver.DriverLocal.$anonfun$execute$21(DriverLocal.scala:872)\n",
       "\tat com.databricks.logging.UsageLogging.$anonfun$withAttributionContext$1(UsageLogging.scala:414)\n",
       "\tat scala.util.DynamicVariable.withValue(DynamicVariable.scala:62)\n",
       "\tat com.databricks.logging.AttributionContext$.withValue(AttributionContext.scala:158)\n",
       "\tat com.databricks.logging.UsageLogging.withAttributionContext(UsageLogging.scala:412)\n",
       "\tat com.databricks.logging.UsageLogging.withAttributionContext$(UsageLogging.scala:409)\n",
       "\tat com.databricks.backend.daemon.driver.DriverLocal.withAttributionContext(DriverLocal.scala:69)\n",
       "\tat com.databricks.logging.UsageLogging.withAttributionTags(UsageLogging.scala:457)\n",
       "\tat com.databricks.logging.UsageLogging.withAttributionTags$(UsageLogging.scala:442)\n",
       "\tat com.databricks.backend.daemon.driver.DriverLocal.withAttributionTags(DriverLocal.scala:69)\n",
       "\tat com.databricks.backend.daemon.driver.DriverLocal.execute(DriverLocal.scala:849)\n",
       "\tat com.databricks.backend.daemon.driver.DriverWrapper.$anonfun$tryExecutingCommand$1(DriverWrapper.scala:660)\n",
       "\tat scala.util.Try$.apply(Try.scala:213)\n",
       "\tat com.databricks.backend.daemon.driver.DriverWrapper.tryExecutingCommand(DriverWrapper.scala:652)\n",
       "\tat com.databricks.backend.daemon.driver.DriverWrapper.executeCommandAndGetError(DriverWrapper.scala:571)\n",
       "\tat com.databricks.backend.daemon.driver.DriverWrapper.executeCommand(DriverWrapper.scala:606)\n",
       "\tat com.databricks.backend.daemon.driver.DriverWrapper.runInnerLoop(DriverWrapper.scala:448)\n",
       "\tat com.databricks.backend.daemon.driver.DriverWrapper.runInner(DriverWrapper.scala:389)\n",
       "\tat com.databricks.backend.daemon.driver.DriverWrapper.run(DriverWrapper.scala:247)\n",
       "\tat java.lang.Thread.run(Thread.java:750)</div>"
      ]
     },
     "metadata": {
      "application/vnd.databricks.v1+output": {
       "arguments": {},
       "data": "<div class=\"ansiout\">\tat com.databricks.backend.daemon.data.client.DbfsClient.send0(DbfsClient.scala:121)\n\tat com.databricks.backend.daemon.data.client.DbfsClient.sendIdempotent(DbfsClient.scala:69)\n\tat com.databricks.backend.daemon.data.client.DatabricksFileSystemV1.listStatus(DatabricksFileSystemV1.scala:179)\n\tat com.databricks.backend.daemon.data.client.DatabricksFileSystem.listStatus(DatabricksFileSystem.scala:161)\n\tat com.databricks.backend.daemon.dbutils.FSUtils.lsWithLimit(DBUtilsCore.scala:254)\n\tat com.databricks.backend.daemon.dbutils.FSUtils.$anonfun$lsImpl$2(DBUtilsCore.scala:223)\n\tat com.databricks.backend.daemon.dbutils.FSUtils.withFsSafetyCheck(DBUtilsCore.scala:145)\n\tat com.databricks.backend.daemon.dbutils.FSUtils.$anonfun$lsImpl$1(DBUtilsCore.scala:221)\n\tat com.databricks.backend.daemon.dbutils.FSUtils.checkPermission(DBUtilsCore.scala:140)\n\tat com.databricks.backend.daemon.dbutils.FSUtils.lsImpl(DBUtilsCore.scala:221)\n\tat com.databricks.backend.daemon.dbutils.FSUtils.$anonfun$ls$1(DBUtilsCore.scala:211)\n\tat com.databricks.logging.UsageLogging.$anonfun$recordOperation$1(UsageLogging.scala:560)\n\tat com.databricks.logging.UsageLogging.executeThunkAndCaptureResultTags$1(UsageLogging.scala:656)\n\tat com.databricks.logging.UsageLogging.$anonfun$recordOperationWithResultTags$4(UsageLogging.scala:677)\n\tat com.databricks.logging.UsageLogging.$anonfun$withAttributionContext$1(UsageLogging.scala:414)\n\tat scala.util.DynamicVariable.withValue(DynamicVariable.scala:62)\n\tat com.databricks.logging.AttributionContext$.withValue(AttributionContext.scala:158)\n\tat com.databricks.logging.UsageLogging.withAttributionContext(UsageLogging.scala:412)\n\tat com.databricks.logging.UsageLogging.withAttributionContext$(UsageLogging.scala:409)\n\tat com.databricks.backend.daemon.dbutils.FSUtils.withAttributionContext(DBUtilsCore.scala:69)\n\tat com.databricks.logging.UsageLogging.withAttributionTags(UsageLogging.scala:457)\n\tat com.databricks.logging.UsageLogging.withAttributionTags$(UsageLogging.scala:442)\n\tat com.databricks.backend.daemon.dbutils.FSUtils.withAttributionTags(DBUtilsCore.scala:69)\n\tat com.databricks.logging.UsageLogging.recordOperationWithResultTags(UsageLogging.scala:651)\n\tat com.databricks.logging.UsageLogging.recordOperationWithResultTags$(UsageLogging.scala:569)\n\tat com.databricks.backend.daemon.dbutils.FSUtils.recordOperationWithResultTags(DBUtilsCore.scala:69)\n\tat com.databricks.logging.UsageLogging.recordOperation(UsageLogging.scala:560)\n\tat com.databricks.logging.UsageLogging.recordOperation$(UsageLogging.scala:528)\n\tat com.databricks.backend.daemon.dbutils.FSUtils.recordOperation(DBUtilsCore.scala:69)\n\tat com.databricks.backend.daemon.dbutils.FSUtils.recordDbutilsFsOp(DBUtilsCore.scala:133)\n\tat com.databricks.backend.daemon.dbutils.FSUtils.ls(DBUtilsCore.scala:211)\n\tat com.databricks.dbutils_v1.impl.DbfsUtilsImpl.ls(DbfsUtilsImpl.scala:67)\n\tat $line6510185b46fa45cca3576b9b3afd3a9b29.$read$$iw$$iw$$iw$$iw$$iw$$iw.&lt;init&gt;(command-2042515557813446:1)\n\tat $line6510185b46fa45cca3576b9b3afd3a9b29.$read$$iw$$iw$$iw$$iw$$iw.&lt;init&gt;(command-2042515557813446:43)\n\tat $line6510185b46fa45cca3576b9b3afd3a9b29.$read$$iw$$iw$$iw$$iw.&lt;init&gt;(command-2042515557813446:45)\n\tat $line6510185b46fa45cca3576b9b3afd3a9b29.$read$$iw$$iw$$iw.&lt;init&gt;(command-2042515557813446:47)\n\tat $line6510185b46fa45cca3576b9b3afd3a9b29.$read$$iw$$iw.&lt;init&gt;(command-2042515557813446:49)\n\tat $line6510185b46fa45cca3576b9b3afd3a9b29.$read$$iw.&lt;init&gt;(command-2042515557813446:51)\n\tat $line6510185b46fa45cca3576b9b3afd3a9b29.$read.&lt;init&gt;(command-2042515557813446:53)\n\tat $line6510185b46fa45cca3576b9b3afd3a9b29.$read$.&lt;init&gt;(command-2042515557813446:57)\n\tat $line6510185b46fa45cca3576b9b3afd3a9b29.$read$.&lt;clinit&gt;(command-2042515557813446)\n\tat $line6510185b46fa45cca3576b9b3afd3a9b29.$eval$.$print$lzycompute(&lt;notebook&gt;:7)\n\tat $line6510185b46fa45cca3576b9b3afd3a9b29.$eval$.$print(&lt;notebook&gt;:6)\n\tat $line6510185b46fa45cca3576b9b3afd3a9b29.$eval.$print(&lt;notebook&gt;)\n\tat sun.reflect.NativeMethodAccessorImpl.invoke0(Native Method)\n\tat sun.reflect.NativeMethodAccessorImpl.invoke(NativeMethodAccessorImpl.java:62)\n\tat sun.reflect.DelegatingMethodAccessorImpl.invoke(DelegatingMethodAccessorImpl.java:43)\n\tat java.lang.reflect.Method.invoke(Method.java:498)\n\tat scala.tools.nsc.interpreter.IMain$ReadEvalPrint.call(IMain.scala:747)\n\tat scala.tools.nsc.interpreter.IMain$Request.loadAndRun(IMain.scala:1020)\n\tat scala.tools.nsc.interpreter.IMain.$anonfun$interpret$1(IMain.scala:568)\n\tat scala.reflect.internal.util.ScalaClassLoader.asContext(ScalaClassLoader.scala:36)\n\tat scala.reflect.internal.util.ScalaClassLoader.asContext$(ScalaClassLoader.scala:116)\n\tat scala.reflect.internal.util.AbstractFileClassLoader.asContext(AbstractFileClassLoader.scala:41)\n\tat scala.tools.nsc.interpreter.IMain.loadAndRunReq$1(IMain.scala:567)\n\tat scala.tools.nsc.interpreter.IMain.interpret(IMain.scala:594)\n\tat scala.tools.nsc.interpreter.IMain.interpret(IMain.scala:564)\n\tat com.databricks.backend.daemon.driver.DriverILoop.execute(DriverILoop.scala:223)\n\tat com.databricks.backend.daemon.driver.ScalaDriverLocal.$anonfun$repl$1(ScalaDriverLocal.scala:227)\n\tat scala.runtime.java8.JFunction0$mcV$sp.apply(JFunction0$mcV$sp.java:23)\n\tat com.databricks.backend.daemon.driver.DriverLocal$TrapExitInternal$.trapExit(DriverLocal.scala:1286)\n\tat com.databricks.backend.daemon.driver.DriverLocal$TrapExit$.apply(DriverLocal.scala:1239)\n\tat com.databricks.backend.daemon.driver.ScalaDriverLocal.repl(ScalaDriverLocal.scala:227)\n\tat com.databricks.backend.daemon.driver.DriverLocal.$anonfun$execute$24(DriverLocal.scala:892)\n\tat com.databricks.unity.EmptyHandle$.runWith(UCSHandle.scala:125)\n\tat com.databricks.backend.daemon.driver.DriverLocal.$anonfun$execute$21(DriverLocal.scala:872)\n\tat com.databricks.logging.UsageLogging.$anonfun$withAttributionContext$1(UsageLogging.scala:414)\n\tat scala.util.DynamicVariable.withValue(DynamicVariable.scala:62)\n\tat com.databricks.logging.AttributionContext$.withValue(AttributionContext.scala:158)\n\tat com.databricks.logging.UsageLogging.withAttributionContext(UsageLogging.scala:412)\n\tat com.databricks.logging.UsageLogging.withAttributionContext$(UsageLogging.scala:409)\n\tat com.databricks.backend.daemon.driver.DriverLocal.withAttributionContext(DriverLocal.scala:69)\n\tat com.databricks.logging.UsageLogging.withAttributionTags(UsageLogging.scala:457)\n\tat com.databricks.logging.UsageLogging.withAttributionTags$(UsageLogging.scala:442)\n\tat com.databricks.backend.daemon.driver.DriverLocal.withAttributionTags(DriverLocal.scala:69)\n\tat com.databricks.backend.daemon.driver.DriverLocal.execute(DriverLocal.scala:849)\n\tat com.databricks.backend.daemon.driver.DriverWrapper.$anonfun$tryExecutingCommand$1(DriverWrapper.scala:660)\n\tat scala.util.Try$.apply(Try.scala:213)\n\tat com.databricks.backend.daemon.driver.DriverWrapper.tryExecutingCommand(DriverWrapper.scala:652)\n\tat com.databricks.backend.daemon.driver.DriverWrapper.executeCommandAndGetError(DriverWrapper.scala:571)\n\tat com.databricks.backend.daemon.driver.DriverWrapper.executeCommand(DriverWrapper.scala:606)\n\tat com.databricks.backend.daemon.driver.DriverWrapper.runInnerLoop(DriverWrapper.scala:448)\n\tat com.databricks.backend.daemon.driver.DriverWrapper.runInner(DriverWrapper.scala:389)\n\tat com.databricks.backend.daemon.driver.DriverWrapper.run(DriverWrapper.scala:247)\n\tat java.lang.Thread.run(Thread.java:750)</div>",
       "errorSummary": "FileNotFoundException: /delta/ratings",
       "errorTraceType": "html",
       "metadata": {},
       "type": "ipynbError"
      }
     },
     "output_type": "display_data"
    }
   ],
   "source": [
    "# %fs\n",
    "# rm -r /delta/ratings\n",
    "# ls /delta/ratings"
   ]
  },
  {
   "cell_type": "code",
   "execution_count": 0,
   "metadata": {
    "application/vnd.databricks.v1+cell": {
     "cellMetadata": {},
     "inputWidgets": {},
     "nuid": "a429b1fb-9f3e-4fb4-acc4-321bdb2577c1",
     "showTitle": false,
     "title": ""
    }
   },
   "outputs": [],
   "source": []
  }
 ],
 "metadata": {
  "application/vnd.databricks.v1+notebook": {
   "dashboards": [
    {
     "elements": [
      {
       "dashboardResultIndex": null,
       "elementNUID": "c2b3080b-f460-4304-9041-7e47f67bd39e",
       "elementType": "command",
       "guid": "612e36ad-3653-4c4a-b47f-7013894de2b0",
       "options": null,
       "position": {
        "height": 6,
        "width": 12,
        "x": 0,
        "y": 9,
        "z": null
       },
       "resultIndex": null
      },
      {
       "dashboardResultIndex": null,
       "elementNUID": "1c1208b3-4c58-4900-9262-e57a82ccb1cd",
       "elementType": "command",
       "guid": "66fb20c9-ba98-432f-b0fa-17ee3f2d3dfd",
       "options": null,
       "position": {
        "height": 2,
        "width": 12,
        "x": 0,
        "y": 15,
        "z": null
       },
       "resultIndex": null
      },
      {
       "dashboardResultIndex": null,
       "elementNUID": "39eb54e7-59e7-4217-9619-79e4bf885027",
       "elementType": "command",
       "guid": "b8ac968f-00f8-436c-987c-d61ee5e4a340",
       "options": null,
       "position": {
        "height": 2,
        "width": 12,
        "x": 0,
        "y": 20,
        "z": null
       },
       "resultIndex": null
      },
      {
       "dashboardResultIndex": 0,
       "elementNUID": "4d8a2ef0-1033-48cf-83dd-4c0eceb2788f",
       "elementType": "command",
       "guid": "db26cdf6-7fb1-4447-920f-d04d2a66c4c2",
       "options": null,
       "position": {
        "height": 6,
        "width": 12,
        "x": 0,
        "y": 27,
        "z": null
       },
       "resultIndex": null
      }
     ],
     "globalVars": {},
     "guid": "",
     "layoutOption": {
      "grid": true,
      "stack": true
     },
     "nuid": "12ced7f4-2a36-4adc-ab63-1b7094be13b8",
     "origId": 699948804895852,
     "title": "Streaming",
     "version": "DashboardViewV1",
     "width": 2048
    },
    {
     "elements": [],
     "globalVars": {},
     "guid": "",
     "layoutOption": {
      "grid": true,
      "stack": true
     },
     "nuid": "38cbf6f2-4c0e-4f1d-bf15-0d2e0dde5c3b",
     "origId": 699948804895853,
     "title": "Pagecounts",
     "version": "DashboardViewV1",
     "width": 1024
    }
   ],
   "language": "python",
   "notebookMetadata": {
    "mostRecentlyExecutedCommandWithImplicitDF": {
     "commandId": 2042515557813452,
     "dataframes": [
      "_sqldf"
     ]
    },
    "pythonIndentUnit": 2
   },
   "notebookName": "Ratings_ingest_notebook",
   "widgets": {}
  }
 },
 "nbformat": 4,
 "nbformat_minor": 0
}
